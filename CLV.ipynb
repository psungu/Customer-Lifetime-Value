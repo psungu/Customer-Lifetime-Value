{
 "cells": [
  {
   "cell_type": "markdown",
   "id": "96ed23e3",
   "metadata": {},
   "source": [
    "Author: Pınar Süngü"
   ]
  },
  {
   "cell_type": "code",
   "execution_count": 1,
   "id": "eee4a130",
   "metadata": {},
   "outputs": [],
   "source": [
    "import pandas as pd\n",
    "import numpy as np\n",
    "import seaborn as sns\n",
    "import matplotlib.pyplot as plt\n",
    "import scipy.stats as stats"
   ]
  },
  {
   "cell_type": "code",
   "execution_count": 2,
   "id": "133c93c6",
   "metadata": {},
   "outputs": [],
   "source": [
    "#Read Data\n",
    "\n",
    "train_data = pd.read_excel('Problem3Train.xlsx')"
   ]
  },
  {
   "cell_type": "code",
   "execution_count": 3,
   "id": "c26b3689",
   "metadata": {},
   "outputs": [
    {
     "name": "stdout",
     "output_type": "stream",
     "text": [
      "The number of rows: 441\n",
      "The number of columns: 8\n"
     ]
    }
   ],
   "source": [
    "print(\"The number of rows:\",train_data.shape[0])\n",
    "print(\"The number of columns:\",train_data.shape[1])"
   ]
  },
  {
   "cell_type": "code",
   "execution_count": 4,
   "id": "880efb22",
   "metadata": {},
   "outputs": [
    {
     "name": "stdout",
     "output_type": "stream",
     "text": [
      "<class 'pandas.core.frame.DataFrame'>\n",
      "RangeIndex: 441 entries, 0 to 440\n",
      "Data columns (total 8 columns):\n",
      " #   Column          Non-Null Count  Dtype         \n",
      "---  ------          --------------  -----         \n",
      " 0   userID          441 non-null    int64         \n",
      " 1   bookerCC        441 non-null    object        \n",
      " 2   international   441 non-null    int64         \n",
      " 3   length_of_stay  441 non-null    int64         \n",
      " 4   channel         441 non-null    object        \n",
      " 5   bookDate        441 non-null    datetime64[ns]\n",
      " 6   commission      441 non-null    float64       \n",
      " 7   ltv             441 non-null    float64       \n",
      "dtypes: datetime64[ns](1), float64(2), int64(3), object(2)\n",
      "memory usage: 27.7+ KB\n"
     ]
    }
   ],
   "source": [
    "train_data.info()"
   ]
  },
  {
   "cell_type": "markdown",
   "id": "6b4b8488",
   "metadata": {},
   "source": [
    "# Numerical Variables"
   ]
  },
  {
   "cell_type": "code",
   "execution_count": 5,
   "id": "196f7edc",
   "metadata": {},
   "outputs": [],
   "source": [
    "numerical_cols = train_data.select_dtypes(include=[\"int64\",\"float64\"])"
   ]
  },
  {
   "cell_type": "code",
   "execution_count": 6,
   "id": "7d003738",
   "metadata": {},
   "outputs": [
    {
     "name": "stderr",
     "output_type": "stream",
     "text": [
      "C:\\Users\\pinarsungu\\anaconda3\\lib\\site-packages\\pandas\\core\\frame.py:4308: SettingWithCopyWarning: \n",
      "A value is trying to be set on a copy of a slice from a DataFrame\n",
      "\n",
      "See the caveats in the documentation: https://pandas.pydata.org/pandas-docs/stable/user_guide/indexing.html#returning-a-view-versus-a-copy\n",
      "  return super().drop(\n"
     ]
    }
   ],
   "source": [
    "numerical_cols.drop(\"userID\",axis=1,inplace=True)"
   ]
  },
  {
   "cell_type": "markdown",
   "id": "5e2adc29",
   "metadata": {},
   "source": [
    "Summary Statistics of Numerical features"
   ]
  },
  {
   "cell_type": "code",
   "execution_count": 7,
   "id": "15fb5bd3",
   "metadata": {},
   "outputs": [
    {
     "data": {
      "text/html": [
       "<div>\n",
       "<style scoped>\n",
       "    .dataframe tbody tr th:only-of-type {\n",
       "        vertical-align: middle;\n",
       "    }\n",
       "\n",
       "    .dataframe tbody tr th {\n",
       "        vertical-align: top;\n",
       "    }\n",
       "\n",
       "    .dataframe thead th {\n",
       "        text-align: right;\n",
       "    }\n",
       "</style>\n",
       "<table border=\"1\" class=\"dataframe\">\n",
       "  <thead>\n",
       "    <tr style=\"text-align: right;\">\n",
       "      <th></th>\n",
       "      <th>international</th>\n",
       "      <th>length_of_stay</th>\n",
       "      <th>commission</th>\n",
       "      <th>ltv</th>\n",
       "    </tr>\n",
       "  </thead>\n",
       "  <tbody>\n",
       "    <tr>\n",
       "      <th>count</th>\n",
       "      <td>441.000000</td>\n",
       "      <td>441.00000</td>\n",
       "      <td>441.000000</td>\n",
       "      <td>441.000000</td>\n",
       "    </tr>\n",
       "    <tr>\n",
       "      <th>mean</th>\n",
       "      <td>0.494331</td>\n",
       "      <td>2.62585</td>\n",
       "      <td>99.392517</td>\n",
       "      <td>117.957710</td>\n",
       "    </tr>\n",
       "    <tr>\n",
       "      <th>std</th>\n",
       "      <td>0.500536</td>\n",
       "      <td>1.96750</td>\n",
       "      <td>76.403524</td>\n",
       "      <td>98.801338</td>\n",
       "    </tr>\n",
       "    <tr>\n",
       "      <th>min</th>\n",
       "      <td>0.000000</td>\n",
       "      <td>1.00000</td>\n",
       "      <td>20.000000</td>\n",
       "      <td>20.370000</td>\n",
       "    </tr>\n",
       "    <tr>\n",
       "      <th>25%</th>\n",
       "      <td>0.000000</td>\n",
       "      <td>1.00000</td>\n",
       "      <td>47.300000</td>\n",
       "      <td>51.350000</td>\n",
       "    </tr>\n",
       "    <tr>\n",
       "      <th>50%</th>\n",
       "      <td>0.000000</td>\n",
       "      <td>2.00000</td>\n",
       "      <td>84.000000</td>\n",
       "      <td>94.590000</td>\n",
       "    </tr>\n",
       "    <tr>\n",
       "      <th>75%</th>\n",
       "      <td>1.000000</td>\n",
       "      <td>3.00000</td>\n",
       "      <td>126.000000</td>\n",
       "      <td>150.710000</td>\n",
       "    </tr>\n",
       "    <tr>\n",
       "      <th>max</th>\n",
       "      <td>1.000000</td>\n",
       "      <td>10.00000</td>\n",
       "      <td>546.000000</td>\n",
       "      <td>756.640000</td>\n",
       "    </tr>\n",
       "  </tbody>\n",
       "</table>\n",
       "</div>"
      ],
      "text/plain": [
       "       international  length_of_stay  commission         ltv\n",
       "count     441.000000       441.00000  441.000000  441.000000\n",
       "mean        0.494331         2.62585   99.392517  117.957710\n",
       "std         0.500536         1.96750   76.403524   98.801338\n",
       "min         0.000000         1.00000   20.000000   20.370000\n",
       "25%         0.000000         1.00000   47.300000   51.350000\n",
       "50%         0.000000         2.00000   84.000000   94.590000\n",
       "75%         1.000000         3.00000  126.000000  150.710000\n",
       "max         1.000000        10.00000  546.000000  756.640000"
      ]
     },
     "execution_count": 7,
     "metadata": {},
     "output_type": "execute_result"
    }
   ],
   "source": [
    "numerical_cols.describe()"
   ]
  },
  {
   "cell_type": "markdown",
   "id": "1ce681ee",
   "metadata": {},
   "source": [
    "# EDA\n",
    "Numerical Features\n",
    "LTV - Target variable analysis"
   ]
  },
  {
   "cell_type": "code",
   "execution_count": 8,
   "id": "f44861d4",
   "metadata": {},
   "outputs": [
    {
     "name": "stderr",
     "output_type": "stream",
     "text": [
      "C:\\Users\\pinarsungu\\anaconda3\\lib\\site-packages\\seaborn\\distributions.py:2557: FutureWarning: `distplot` is a deprecated function and will be removed in a future version. Please adapt your code to use either `displot` (a figure-level function with similar flexibility) or `histplot` (an axes-level function for histograms).\n",
      "  warnings.warn(msg, FutureWarning)\n"
     ]
    },
    {
     "data": {
      "image/png": "[encoded data removed]",
      "text/plain": [
       "<Figure size 432x288 with 1 Axes>"
      ]
     },
     "metadata": {
      "needs_background": "light"
     },
     "output_type": "display_data"
    }
   ],
   "source": [
    "sns.distplot(train_data[\"ltv\"])\n",
    "plt.show()"
   ]
  },
  {
   "cell_type": "code",
   "execution_count": 9,
   "id": "b477fcc7",
   "metadata": {},
   "outputs": [
    {
     "name": "stderr",
     "output_type": "stream",
     "text": [
      "C:\\Users\\pinarsungu\\anaconda3\\lib\\site-packages\\seaborn\\_decorators.py:36: FutureWarning: Pass the following variable as a keyword arg: x. From version 0.12, the only valid positional argument will be `data`, and passing other arguments without an explicit keyword will result in an error or misinterpretation.\n",
      "  warnings.warn(\n"
     ]
    },
    {
     "data": {
      "image/png": "[encoded data removed]",
      "text/plain": [
       "<Figure size 432x288 with 1 Axes>"
      ]
     },
     "metadata": {
      "needs_background": "light"
     },
     "output_type": "display_data"
    }
   ],
   "source": [
    "sns.boxplot(train_data[\"ltv\"])\n",
    "plt.show()"
   ]
  },
  {
   "cell_type": "code",
   "execution_count": 10,
   "id": "27f3810a",
   "metadata": {},
   "outputs": [
    {
     "data": {
      "text/plain": [
       "2.3373869554411875"
      ]
     },
     "execution_count": 10,
     "metadata": {},
     "output_type": "execute_result"
    }
   ],
   "source": [
    "train_data[\"ltv\"].skew()"
   ]
  },
  {
   "cell_type": "markdown",
   "id": "ef1ad172",
   "metadata": {},
   "source": [
    "From the distribution and box plot we can infer that LTV is right skewed. There are lot of outliers in our dependent variable but we cant treat them directly because they are influential points."
   ]
  },
  {
   "cell_type": "markdown",
   "id": "dbd8d985",
   "metadata": {},
   "source": [
    "# length_of_stay"
   ]
  },
  {
   "cell_type": "markdown",
   "id": "872a767b",
   "metadata": {},
   "source": [
    "Univariate Analysis"
   ]
  },
  {
   "cell_type": "code",
   "execution_count": 11,
   "id": "f4ad548e",
   "metadata": {},
   "outputs": [
    {
     "name": "stderr",
     "output_type": "stream",
     "text": [
      "C:\\Users\\pinarsungu\\anaconda3\\lib\\site-packages\\seaborn\\distributions.py:2557: FutureWarning: `distplot` is a deprecated function and will be removed in a future version. Please adapt your code to use either `displot` (a figure-level function with similar flexibility) or `histplot` (an axes-level function for histograms).\n",
      "  warnings.warn(msg, FutureWarning)\n"
     ]
    },
    {
     "data": {
      "image/png": "[encoded data removed]",
      "text/plain": [
       "<Figure size 432x288 with 1 Axes>"
      ]
     },
     "metadata": {
      "needs_background": "light"
     },
     "output_type": "display_data"
    }
   ],
   "source": [
    "sns.distplot(train_data[\"length_of_stay\"])\n",
    "plt.show()"
   ]
  },
  {
   "cell_type": "code",
   "execution_count": 12,
   "id": "b266c673",
   "metadata": {},
   "outputs": [
    {
     "name": "stderr",
     "output_type": "stream",
     "text": [
      "C:\\Users\\pinarsungu\\anaconda3\\lib\\site-packages\\seaborn\\_decorators.py:36: FutureWarning: Pass the following variable as a keyword arg: x. From version 0.12, the only valid positional argument will be `data`, and passing other arguments without an explicit keyword will result in an error or misinterpretation.\n",
      "  warnings.warn(\n"
     ]
    },
    {
     "data": {
      "image/png": "[encoded data removed]",
      "text/plain": [
       "<Figure size 432x288 with 1 Axes>"
      ]
     },
     "metadata": {
      "needs_background": "light"
     },
     "output_type": "display_data"
    }
   ],
   "source": [
    "sns.boxplot(train_data[\"length_of_stay\"])\n",
    "plt.show()"
   ]
  },
  {
   "cell_type": "markdown",
   "id": "8903bbb0",
   "metadata": {},
   "source": [
    "Bivariate Analysis"
   ]
  },
  {
   "cell_type": "code",
   "execution_count": 13,
   "id": "b6d983aa",
   "metadata": {},
   "outputs": [
    {
     "name": "stderr",
     "output_type": "stream",
     "text": [
      "C:\\Users\\pinarsungu\\anaconda3\\lib\\site-packages\\seaborn\\_decorators.py:36: FutureWarning: Pass the following variables as keyword args: x, y. From version 0.12, the only valid positional argument will be `data`, and passing other arguments without an explicit keyword will result in an error or misinterpretation.\n",
      "  warnings.warn(\n"
     ]
    },
    {
     "data": {
      "image/png": "[encoded data removed]",
      "text/plain": [
       "<Figure size 432x288 with 1 Axes>"
      ]
     },
     "metadata": {
      "needs_background": "light"
     },
     "output_type": "display_data"
    }
   ],
   "source": [
    "sns.scatterplot(train_data[\"length_of_stay\"],train_data[\"ltv\"])\n",
    "plt.show()"
   ]
  },
  {
   "cell_type": "markdown",
   "id": "da0c385a",
   "metadata": {},
   "source": [
    "There is linear relationship between length_of_stay and LTV"
   ]
  },
  {
   "cell_type": "markdown",
   "id": "a8f1b779",
   "metadata": {},
   "source": [
    "# commission"
   ]
  },
  {
   "cell_type": "code",
   "execution_count": 14,
   "id": "5c539635",
   "metadata": {},
   "outputs": [
    {
     "name": "stderr",
     "output_type": "stream",
     "text": [
      "C:\\Users\\pinarsungu\\anaconda3\\lib\\site-packages\\seaborn\\distributions.py:2557: FutureWarning: `distplot` is a deprecated function and will be removed in a future version. Please adapt your code to use either `displot` (a figure-level function with similar flexibility) or `histplot` (an axes-level function for histograms).\n",
      "  warnings.warn(msg, FutureWarning)\n"
     ]
    },
    {
     "data": {
      "image/png": "[encoded data removed]",
      "text/plain": [
       "<Figure size 432x288 with 1 Axes>"
      ]
     },
     "metadata": {
      "needs_background": "light"
     },
     "output_type": "display_data"
    }
   ],
   "source": [
    "sns.distplot(train_data[\"commission\"],color='c')\n",
    "plt.show()"
   ]
  },
  {
   "cell_type": "code",
   "execution_count": 15,
   "id": "a4fa79a6",
   "metadata": {},
   "outputs": [
    {
     "name": "stderr",
     "output_type": "stream",
     "text": [
      "C:\\Users\\pinarsungu\\anaconda3\\lib\\site-packages\\seaborn\\_decorators.py:36: FutureWarning: Pass the following variable as a keyword arg: x. From version 0.12, the only valid positional argument will be `data`, and passing other arguments without an explicit keyword will result in an error or misinterpretation.\n",
      "  warnings.warn(\n"
     ]
    },
    {
     "data": {
      "image/png": "[encoded data removed]",
      "text/plain": [
       "<Figure size 432x288 with 1 Axes>"
      ]
     },
     "metadata": {
      "needs_background": "light"
     },
     "output_type": "display_data"
    }
   ],
   "source": [
    "sns.boxplot(train_data[\"commission\"],color='c')\n",
    "plt.show()"
   ]
  },
  {
   "cell_type": "markdown",
   "id": "a4d47a78",
   "metadata": {},
   "source": [
    "Commission behaves like LTV"
   ]
  },
  {
   "cell_type": "markdown",
   "id": "f93ddd31",
   "metadata": {},
   "source": [
    "Bivariate Analysis"
   ]
  },
  {
   "cell_type": "code",
   "execution_count": 16,
   "id": "1da1fe36",
   "metadata": {},
   "outputs": [
    {
     "name": "stderr",
     "output_type": "stream",
     "text": [
      "C:\\Users\\pinarsungu\\anaconda3\\lib\\site-packages\\seaborn\\_decorators.py:36: FutureWarning: Pass the following variables as keyword args: x, y. From version 0.12, the only valid positional argument will be `data`, and passing other arguments without an explicit keyword will result in an error or misinterpretation.\n",
      "  warnings.warn(\n"
     ]
    },
    {
     "data": {
      "image/png": "[encoded data removed]",
      "text/plain": [
       "<Figure size 432x288 with 1 Axes>"
      ]
     },
     "metadata": {
      "needs_background": "light"
     },
     "output_type": "display_data"
    }
   ],
   "source": [
    "sns.scatterplot(train_data[\"commission\"],train_data[\"ltv\"],color='g')\n",
    "plt.show()"
   ]
  },
  {
   "cell_type": "markdown",
   "id": "e6026be2",
   "metadata": {},
   "source": [
    "There is linear relationship between commission and LTV"
   ]
  },
  {
   "cell_type": "markdown",
   "id": "186b1b10",
   "metadata": {},
   "source": [
    "# Categorical variables"
   ]
  },
  {
   "cell_type": "code",
   "execution_count": 17,
   "id": "6d8944b2",
   "metadata": {},
   "outputs": [],
   "source": [
    "cat_cols = train_data.select_dtypes(include=\"object\")"
   ]
  },
  {
   "cell_type": "code",
   "execution_count": 18,
   "id": "2c8f848d",
   "metadata": {},
   "outputs": [],
   "source": [
    "no_col = train_data[[\"international\"]]"
   ]
  },
  {
   "cell_type": "code",
   "execution_count": 19,
   "id": "fedb0dd6",
   "metadata": {},
   "outputs": [],
   "source": [
    "cat_cols = pd.concat([cat_cols,no_col],axis=1)"
   ]
  },
  {
   "cell_type": "code",
   "execution_count": 20,
   "id": "27c34188",
   "metadata": {},
   "outputs": [
    {
     "data": {
      "text/html": [
       "<div>\n",
       "<style scoped>\n",
       "    .dataframe tbody tr th:only-of-type {\n",
       "        vertical-align: middle;\n",
       "    }\n",
       "\n",
       "    .dataframe tbody tr th {\n",
       "        vertical-align: top;\n",
       "    }\n",
       "\n",
       "    .dataframe thead th {\n",
       "        text-align: right;\n",
       "    }\n",
       "</style>\n",
       "<table border=\"1\" class=\"dataframe\">\n",
       "  <thead>\n",
       "    <tr style=\"text-align: right;\">\n",
       "      <th></th>\n",
       "      <th>bookerCC</th>\n",
       "      <th>channel</th>\n",
       "      <th>international</th>\n",
       "    </tr>\n",
       "  </thead>\n",
       "  <tbody>\n",
       "    <tr>\n",
       "      <th>0</th>\n",
       "      <td>us</td>\n",
       "      <td>Intercompany</td>\n",
       "      <td>0</td>\n",
       "    </tr>\n",
       "    <tr>\n",
       "      <th>1</th>\n",
       "      <td>us</td>\n",
       "      <td>ShopPPC</td>\n",
       "      <td>0</td>\n",
       "    </tr>\n",
       "    <tr>\n",
       "      <th>2</th>\n",
       "      <td>us</td>\n",
       "      <td>Intercompany</td>\n",
       "      <td>0</td>\n",
       "    </tr>\n",
       "    <tr>\n",
       "      <th>3</th>\n",
       "      <td>us</td>\n",
       "      <td>PPC</td>\n",
       "      <td>1</td>\n",
       "    </tr>\n",
       "    <tr>\n",
       "      <th>4</th>\n",
       "      <td>us</td>\n",
       "      <td>Email</td>\n",
       "      <td>0</td>\n",
       "    </tr>\n",
       "  </tbody>\n",
       "</table>\n",
       "</div>"
      ],
      "text/plain": [
       "  bookerCC       channel  international\n",
       "0       us  Intercompany              0\n",
       "1       us       ShopPPC              0\n",
       "2       us  Intercompany              0\n",
       "3       us           PPC              1\n",
       "4       us         Email              0"
      ]
     },
     "execution_count": 20,
     "metadata": {},
     "output_type": "execute_result"
    }
   ],
   "source": [
    "cat_cols.head()"
   ]
  },
  {
   "cell_type": "code",
   "execution_count": 21,
   "id": "627e4b9f",
   "metadata": {},
   "outputs": [
    {
     "name": "stdout",
     "output_type": "stream",
     "text": [
      "Unique values in bookerCC is 9\n",
      "br    72\n",
      "de    71\n",
      "gb    53\n",
      "it    48\n",
      "es    48\n",
      "fr    47\n",
      "us    46\n",
      "au    37\n",
      "nl    19\n",
      "Name: bookerCC, dtype: int64\n",
      "-----------------------------------------\n",
      "Unique values in channel is 5\n",
      "Email           126\n",
      "Direct           90\n",
      "ShopPPC          79\n",
      "Intercompany     76\n",
      "PPC              70\n",
      "Name: channel, dtype: int64\n",
      "-----------------------------------------\n",
      "Unique values in international is 2\n",
      "0    223\n",
      "1    218\n",
      "Name: international, dtype: int64\n",
      "-----------------------------------------\n"
     ]
    }
   ],
   "source": [
    "for i in cat_cols:\n",
    "    print(\"Unique values in\",str(i),\"is\",train_data[i].nunique())\n",
    "    print(train_data[i].value_counts())\n",
    "    print(\"-----------------------------------------\")"
   ]
  },
  {
   "cell_type": "markdown",
   "id": "e3c21518",
   "metadata": {},
   "source": [
    "# bookerCC"
   ]
  },
  {
   "cell_type": "code",
   "execution_count": 22,
   "id": "d9d08304",
   "metadata": {},
   "outputs": [
    {
     "name": "stderr",
     "output_type": "stream",
     "text": [
      "C:\\Users\\pinarsungu\\anaconda3\\lib\\site-packages\\seaborn\\_decorators.py:36: FutureWarning: Pass the following variable as a keyword arg: x. From version 0.12, the only valid positional argument will be `data`, and passing other arguments without an explicit keyword will result in an error or misinterpretation.\n",
      "  warnings.warn(\n"
     ]
    },
    {
     "data": {
      "image/png": "[encoded data removed]",
      "text/plain": [
       "<Figure size 432x288 with 1 Axes>"
      ]
     },
     "metadata": {
      "needs_background": "light"
     },
     "output_type": "display_data"
    }
   ],
   "source": [
    "sns.countplot(train_data[\"bookerCC\"])\n",
    "plt.show()"
   ]
  },
  {
   "cell_type": "markdown",
   "id": "7b1b790a",
   "metadata": {},
   "source": [
    "Most number of people are booked from br and de"
   ]
  },
  {
   "cell_type": "markdown",
   "id": "c7720d11",
   "metadata": {},
   "source": [
    "# channel"
   ]
  },
  {
   "cell_type": "code",
   "execution_count": 23,
   "id": "38c2e1e4",
   "metadata": {},
   "outputs": [
    {
     "name": "stderr",
     "output_type": "stream",
     "text": [
      "C:\\Users\\pinarsungu\\anaconda3\\lib\\site-packages\\seaborn\\_decorators.py:36: FutureWarning: Pass the following variable as a keyword arg: x. From version 0.12, the only valid positional argument will be `data`, and passing other arguments without an explicit keyword will result in an error or misinterpretation.\n",
      "  warnings.warn(\n"
     ]
    },
    {
     "data": {
      "image/png": "[encoded data removed]",
      "text/plain": [
       "<Figure size 432x288 with 1 Axes>"
      ]
     },
     "metadata": {
      "needs_background": "light"
     },
     "output_type": "display_data"
    }
   ],
   "source": [
    "sns.countplot(train_data[\"channel\"])\n",
    "plt.show()"
   ]
  },
  {
   "cell_type": "markdown",
   "id": "ddbb3c72",
   "metadata": {},
   "source": [
    "# international"
   ]
  },
  {
   "cell_type": "code",
   "execution_count": 24,
   "id": "be1b4eea",
   "metadata": {},
   "outputs": [
    {
     "name": "stderr",
     "output_type": "stream",
     "text": [
      "C:\\Users\\pinarsungu\\anaconda3\\lib\\site-packages\\seaborn\\_decorators.py:36: FutureWarning: Pass the following variable as a keyword arg: x. From version 0.12, the only valid positional argument will be `data`, and passing other arguments without an explicit keyword will result in an error or misinterpretation.\n",
      "  warnings.warn(\n"
     ]
    },
    {
     "data": {
      "image/png": "[encoded data removed]",
      "text/plain": [
       "<Figure size 432x288 with 1 Axes>"
      ]
     },
     "metadata": {
      "needs_background": "light"
     },
     "output_type": "display_data"
    }
   ],
   "source": [
    "sns.countplot(train_data[\"international\"])\n",
    "plt.show()"
   ]
  },
  {
   "cell_type": "markdown",
   "id": "0d65cd89",
   "metadata": {},
   "source": [
    "# Months"
   ]
  },
  {
   "cell_type": "code",
   "execution_count": 25,
   "id": "649749d4",
   "metadata": {},
   "outputs": [],
   "source": [
    "train_data[\"Months\"] = train_data[\"bookDate\"].dt.month"
   ]
  },
  {
   "cell_type": "code",
   "execution_count": 26,
   "id": "67535c96",
   "metadata": {},
   "outputs": [],
   "source": [
    "train_data['Months'] = train_data['Months'].astype('object')"
   ]
  },
  {
   "cell_type": "code",
   "execution_count": 27,
   "id": "707ccc34",
   "metadata": {},
   "outputs": [
    {
     "name": "stderr",
     "output_type": "stream",
     "text": [
      "C:\\Users\\pinarsungu\\anaconda3\\lib\\site-packages\\seaborn\\_decorators.py:36: FutureWarning: Pass the following variable as a keyword arg: x. From version 0.12, the only valid positional argument will be `data`, and passing other arguments without an explicit keyword will result in an error or misinterpretation.\n",
      "  warnings.warn(\n"
     ]
    },
    {
     "data": {
      "image/png": "[encoded data removed]",
      "text/plain": [
       "<Figure size 432x288 with 1 Axes>"
      ]
     },
     "metadata": {
      "needs_background": "light"
     },
     "output_type": "display_data"
    }
   ],
   "source": [
    "sns.countplot(train_data[\"Months\"])\n",
    "plt.show()"
   ]
  },
  {
   "cell_type": "code",
   "execution_count": 28,
   "id": "b4f06db9",
   "metadata": {},
   "outputs": [
    {
     "data": {
      "text/html": [
       "<div>\n",
       "<style scoped>\n",
       "    .dataframe tbody tr th:only-of-type {\n",
       "        vertical-align: middle;\n",
       "    }\n",
       "\n",
       "    .dataframe tbody tr th {\n",
       "        vertical-align: top;\n",
       "    }\n",
       "\n",
       "    .dataframe thead th {\n",
       "        text-align: right;\n",
       "    }\n",
       "</style>\n",
       "<table border=\"1\" class=\"dataframe\">\n",
       "  <thead>\n",
       "    <tr style=\"text-align: right;\">\n",
       "      <th></th>\n",
       "      <th>userID</th>\n",
       "      <th>bookerCC</th>\n",
       "      <th>international</th>\n",
       "      <th>length_of_stay</th>\n",
       "      <th>channel</th>\n",
       "      <th>bookDate</th>\n",
       "      <th>commission</th>\n",
       "      <th>ltv</th>\n",
       "      <th>Months</th>\n",
       "    </tr>\n",
       "  </thead>\n",
       "  <tbody>\n",
       "    <tr>\n",
       "      <th>0</th>\n",
       "      <td>1</td>\n",
       "      <td>us</td>\n",
       "      <td>0</td>\n",
       "      <td>1</td>\n",
       "      <td>Intercompany</td>\n",
       "      <td>2017-02-22</td>\n",
       "      <td>49.0</td>\n",
       "      <td>52.34</td>\n",
       "      <td>2</td>\n",
       "    </tr>\n",
       "    <tr>\n",
       "      <th>1</th>\n",
       "      <td>2</td>\n",
       "      <td>us</td>\n",
       "      <td>0</td>\n",
       "      <td>3</td>\n",
       "      <td>ShopPPC</td>\n",
       "      <td>2017-06-21</td>\n",
       "      <td>90.0</td>\n",
       "      <td>103.48</td>\n",
       "      <td>6</td>\n",
       "    </tr>\n",
       "    <tr>\n",
       "      <th>2</th>\n",
       "      <td>3</td>\n",
       "      <td>us</td>\n",
       "      <td>0</td>\n",
       "      <td>4</td>\n",
       "      <td>Intercompany</td>\n",
       "      <td>2017-03-10</td>\n",
       "      <td>136.0</td>\n",
       "      <td>155.86</td>\n",
       "      <td>3</td>\n",
       "    </tr>\n",
       "    <tr>\n",
       "      <th>3</th>\n",
       "      <td>5</td>\n",
       "      <td>us</td>\n",
       "      <td>1</td>\n",
       "      <td>3</td>\n",
       "      <td>PPC</td>\n",
       "      <td>2017-01-13</td>\n",
       "      <td>142.6</td>\n",
       "      <td>173.45</td>\n",
       "      <td>1</td>\n",
       "    </tr>\n",
       "    <tr>\n",
       "      <th>4</th>\n",
       "      <td>6</td>\n",
       "      <td>us</td>\n",
       "      <td>0</td>\n",
       "      <td>3</td>\n",
       "      <td>Email</td>\n",
       "      <td>2017-03-03</td>\n",
       "      <td>96.0</td>\n",
       "      <td>107.02</td>\n",
       "      <td>3</td>\n",
       "    </tr>\n",
       "    <tr>\n",
       "      <th>...</th>\n",
       "      <td>...</td>\n",
       "      <td>...</td>\n",
       "      <td>...</td>\n",
       "      <td>...</td>\n",
       "      <td>...</td>\n",
       "      <td>...</td>\n",
       "      <td>...</td>\n",
       "      <td>...</td>\n",
       "      <td>...</td>\n",
       "    </tr>\n",
       "    <tr>\n",
       "      <th>436</th>\n",
       "      <td>453</td>\n",
       "      <td>nl</td>\n",
       "      <td>1</td>\n",
       "      <td>3</td>\n",
       "      <td>Intercompany</td>\n",
       "      <td>2017-06-05</td>\n",
       "      <td>99.2</td>\n",
       "      <td>126.28</td>\n",
       "      <td>6</td>\n",
       "    </tr>\n",
       "    <tr>\n",
       "      <th>437</th>\n",
       "      <td>454</td>\n",
       "      <td>nl</td>\n",
       "      <td>0</td>\n",
       "      <td>2</td>\n",
       "      <td>Email</td>\n",
       "      <td>2017-03-29</td>\n",
       "      <td>104.0</td>\n",
       "      <td>108.19</td>\n",
       "      <td>3</td>\n",
       "    </tr>\n",
       "    <tr>\n",
       "      <th>438</th>\n",
       "      <td>455</td>\n",
       "      <td>nl</td>\n",
       "      <td>0</td>\n",
       "      <td>3</td>\n",
       "      <td>ShopPPC</td>\n",
       "      <td>2017-04-02</td>\n",
       "      <td>159.0</td>\n",
       "      <td>182.28</td>\n",
       "      <td>4</td>\n",
       "    </tr>\n",
       "    <tr>\n",
       "      <th>439</th>\n",
       "      <td>459</td>\n",
       "      <td>nl</td>\n",
       "      <td>0</td>\n",
       "      <td>3</td>\n",
       "      <td>Intercompany</td>\n",
       "      <td>2017-05-11</td>\n",
       "      <td>180.0</td>\n",
       "      <td>216.44</td>\n",
       "      <td>5</td>\n",
       "    </tr>\n",
       "    <tr>\n",
       "      <th>440</th>\n",
       "      <td>460</td>\n",
       "      <td>nl</td>\n",
       "      <td>1</td>\n",
       "      <td>4</td>\n",
       "      <td>Intercompany</td>\n",
       "      <td>2017-06-24</td>\n",
       "      <td>114.8</td>\n",
       "      <td>143.57</td>\n",
       "      <td>6</td>\n",
       "    </tr>\n",
       "  </tbody>\n",
       "</table>\n",
       "<p>441 rows × 9 columns</p>\n",
       "</div>"
      ],
      "text/plain": [
       "     userID bookerCC  international  length_of_stay       channel   bookDate  \\\n",
       "0         1       us              0               1  Intercompany 2017-02-22   \n",
       "1         2       us              0               3       ShopPPC 2017-06-21   \n",
       "2         3       us              0               4  Intercompany 2017-03-10   \n",
       "3         5       us              1               3           PPC 2017-01-13   \n",
       "4         6       us              0               3         Email 2017-03-03   \n",
       "..      ...      ...            ...             ...           ...        ...   \n",
       "436     453       nl              1               3  Intercompany 2017-06-05   \n",
       "437     454       nl              0               2         Email 2017-03-29   \n",
       "438     455       nl              0               3       ShopPPC 2017-04-02   \n",
       "439     459       nl              0               3  Intercompany 2017-05-11   \n",
       "440     460       nl              1               4  Intercompany 2017-06-24   \n",
       "\n",
       "     commission     ltv Months  \n",
       "0          49.0   52.34      2  \n",
       "1          90.0  103.48      6  \n",
       "2         136.0  155.86      3  \n",
       "3         142.6  173.45      1  \n",
       "4          96.0  107.02      3  \n",
       "..          ...     ...    ...  \n",
       "436        99.2  126.28      6  \n",
       "437       104.0  108.19      3  \n",
       "438       159.0  182.28      4  \n",
       "439       180.0  216.44      5  \n",
       "440       114.8  143.57      6  \n",
       "\n",
       "[441 rows x 9 columns]"
      ]
     },
     "execution_count": 28,
     "metadata": {},
     "output_type": "execute_result"
    }
   ],
   "source": [
    "train_data"
   ]
  },
  {
   "cell_type": "markdown",
   "id": "3022622c",
   "metadata": {},
   "source": [
    "# HeatMap"
   ]
  },
  {
   "cell_type": "code",
   "execution_count": 29,
   "id": "8b6637ab",
   "metadata": {},
   "outputs": [],
   "source": [
    "heatmap = train_data[['ltv', 'commission', 'length_of_stay']]"
   ]
  },
  {
   "cell_type": "code",
   "execution_count": 30,
   "id": "2e7bbc3c",
   "metadata": {},
   "outputs": [
    {
     "data": {
      "image/png": "[encoded data removed]",
      "text/plain": [
       "<Figure size 504x288 with 2 Axes>"
      ]
     },
     "metadata": {
      "needs_background": "light"
     },
     "output_type": "display_data"
    }
   ],
   "source": [
    "plt.figure(figsize=(7,4))\n",
    "sns.heatmap(heatmap.corr(),annot=True)\n",
    "plt.show()"
   ]
  },
  {
   "cell_type": "markdown",
   "id": "8744a0df",
   "metadata": {},
   "source": [
    "We can clearly see in the heatmap, that customer lifetime value has a better correlation with commission and length_of_stay"
   ]
  },
  {
   "cell_type": "markdown",
   "id": "675a85bb",
   "metadata": {},
   "source": [
    "# Statistical Significance"
   ]
  },
  {
   "cell_type": "markdown",
   "id": "3835525e",
   "metadata": {},
   "source": [
    "H0:The null hypothesis of the test is the data is normally distributed\n",
    "\n",
    "HA:The data is not normally distributed"
   ]
  },
  {
   "cell_type": "code",
   "execution_count": 31,
   "id": "4dd08d3f",
   "metadata": {},
   "outputs": [
    {
     "data": {
      "text/plain": [
       "ShapiroResult(statistic=0.7717365622520447, pvalue=2.6010453901148826e-24)"
      ]
     },
     "execution_count": 31,
     "metadata": {},
     "output_type": "execute_result"
    }
   ],
   "source": [
    "stats.shapiro(train_data['ltv'])"
   ]
  },
  {
   "cell_type": "markdown",
   "id": "6ddc10bf",
   "metadata": {},
   "source": [
    "p-value less than 0.05 we reject null hypothesis the data is not normally distributed\n",
    "\n",
    "We will proceed with non parametric tests since the dependent variable is not normally distributed"
   ]
  },
  {
   "cell_type": "code",
   "execution_count": 32,
   "id": "d4349de9",
   "metadata": {},
   "outputs": [
    {
     "data": {
      "text/plain": [
       "['bookerCC', 'channel', 'international']"
      ]
     },
     "execution_count": 32,
     "metadata": {},
     "output_type": "execute_result"
    }
   ],
   "source": [
    "columns_cat = list(cat_cols.columns)\n",
    "columns_cat"
   ]
  },
  {
   "cell_type": "code",
   "execution_count": 33,
   "id": "b47d0268",
   "metadata": {},
   "outputs": [
    {
     "name": "stdout",
     "output_type": "stream",
     "text": [
      "Anova: ['bookerCC', 'channel']\n",
      "TTest: ['international']\n"
     ]
    }
   ],
   "source": [
    "manwhiteneyy = []\n",
    "anova = []\n",
    "\n",
    "for i in columns_cat:\n",
    "    if (train_data[i].nunique()>2):\n",
    "        anova.append(i)\n",
    "    else:\n",
    "        manwhiteneyy.append(i)\n",
    "print(\"Anova:\",anova)\n",
    "print(\"TTest:\",manwhiteneyy)"
   ]
  },
  {
   "cell_type": "markdown",
   "id": "be3c07be",
   "metadata": {},
   "source": [
    "H0, the distributions of both populations are equal \n",
    "\n",
    "The alternative hypothesis H1 is that the distributions are not equal."
   ]
  },
  {
   "cell_type": "code",
   "execution_count": 34,
   "id": "032184f2",
   "metadata": {},
   "outputs": [],
   "source": [
    "yes=train_data[train_data['international']==1]['ltv']\n",
    "no=train_data[train_data['international']==0]['ltv']"
   ]
  },
  {
   "cell_type": "code",
   "execution_count": 35,
   "id": "3d923a73",
   "metadata": {},
   "outputs": [
    {
     "name": "stderr",
     "output_type": "stream",
     "text": [
      "C:\\Users\\pinarsungu\\anaconda3\\lib\\site-packages\\seaborn\\distributions.py:2557: FutureWarning: `distplot` is a deprecated function and will be removed in a future version. Please adapt your code to use either `displot` (a figure-level function with similar flexibility) or `histplot` (an axes-level function for histograms).\n",
      "  warnings.warn(msg, FutureWarning)\n",
      "C:\\Users\\pinarsungu\\anaconda3\\lib\\site-packages\\seaborn\\distributions.py:2557: FutureWarning: `distplot` is a deprecated function and will be removed in a future version. Please adapt your code to use either `displot` (a figure-level function with similar flexibility) or `histplot` (an axes-level function for histograms).\n",
      "  warnings.warn(msg, FutureWarning)\n"
     ]
    },
    {
     "data": {
      "text/plain": [
       "<AxesSubplot:xlabel='ltv', ylabel='Density'>"
      ]
     },
     "execution_count": 35,
     "metadata": {},
     "output_type": "execute_result"
    },
    {
     "data": {
      "image/png": "[encoded data removed]",
      "text/plain": [
       "<Figure size 432x288 with 1 Axes>"
      ]
     },
     "metadata": {
      "needs_background": "light"
     },
     "output_type": "display_data"
    }
   ],
   "source": [
    "sns.distplot(yes)\n",
    "sns.distplot(no)"
   ]
  },
  {
   "cell_type": "markdown",
   "id": "b0c84779",
   "metadata": {},
   "source": [
    "If the distributions are identical, which is the null hypothesis of the Mann-Whitney U test, the mean rank will be the same"
   ]
  },
  {
   "cell_type": "code",
   "execution_count": 36,
   "id": "3e550aad",
   "metadata": {},
   "outputs": [
    {
     "name": "stdout",
     "output_type": "stream",
     "text": [
      "MannwhitneyuResult(statistic=20494.0, pvalue=0.0021921048725842846)\n"
     ]
    }
   ],
   "source": [
    "c = stats.mannwhitneyu(yes,no)\n",
    "print(c)"
   ]
  },
  {
   "cell_type": "markdown",
   "id": "999020d8",
   "metadata": {},
   "source": [
    "p-value is smaller than 0.05 we reject null hypothesis i.e the mean rank will not be the same for both international and domastic."
   ]
  },
  {
   "cell_type": "markdown",
   "id": "de605607",
   "metadata": {},
   "source": [
    "we test above for international feature with non-Paramteric unpaired ttest and we concluded that this feature is significant to predict target"
   ]
  },
  {
   "cell_type": "markdown",
   "id": "8ec6b727",
   "metadata": {},
   "source": [
    "H0:the mean ranks of the groups are the same.\n",
    "\n",
    "H1:the mean ranks of the groups are not the same."
   ]
  },
  {
   "cell_type": "code",
   "execution_count": 37,
   "id": "588507d4",
   "metadata": {},
   "outputs": [],
   "source": [
    "br=train_data[train_data['bookerCC']=='br']['ltv']\n",
    "de=train_data[train_data['bookerCC']=='de']['ltv']\n",
    "gb=train_data[train_data['bookerCC']=='gb']['ltv']\n",
    "it=train_data[train_data['bookerCC']=='it']['ltv']\n",
    "es=train_data[train_data['bookerCC']=='es']['ltv']\n",
    "fr=train_data[train_data['bookerCC']=='fr']['ltv']\n",
    "us=train_data[train_data['bookerCC']=='us']['ltv']\n",
    "au=train_data[train_data['bookerCC']=='au']['ltv']\n",
    "nl=train_data[train_data['bookerCC']=='nl']['ltv']"
   ]
  },
  {
   "cell_type": "code",
   "execution_count": 38,
   "id": "57910b16",
   "metadata": {},
   "outputs": [
    {
     "name": "stdout",
     "output_type": "stream",
     "text": [
      "KruskalResult(statistic=44.8655731848628, pvalue=3.902281433644974e-07)\n"
     ]
    }
   ],
   "source": [
    "a = stats.kruskal(br,de,gb,it,es,fr,us,au,nl)\n",
    "print(a)"
   ]
  },
  {
   "cell_type": "markdown",
   "id": "ac5dea3c",
   "metadata": {},
   "source": [
    "p-value < 0.05 reject H0, bookerCC is significant in predicting LTV"
   ]
  },
  {
   "cell_type": "code",
   "execution_count": 39,
   "id": "d9bd6426",
   "metadata": {},
   "outputs": [
    {
     "data": {
      "text/plain": [
       "F_onewayResult(statistic=3.1606115889160145, pvalue=0.0017188991058437629)"
      ]
     },
     "execution_count": 39,
     "metadata": {},
     "output_type": "execute_result"
    }
   ],
   "source": [
    "stats.f_oneway(br,de,gb,it,es,fr,us,au,nl)"
   ]
  },
  {
   "cell_type": "code",
   "execution_count": 40,
   "id": "54370d7b",
   "metadata": {},
   "outputs": [],
   "source": [
    "Email=train_data[train_data['channel']=='Email']['ltv']\n",
    "Direct=train_data[train_data['channel']=='Direct']['ltv']\n",
    "ShopPPC=train_data[train_data['channel']=='ShopPPC']['ltv']\n",
    "Intercompany=train_data[train_data['channel']=='Intercompany']['ltv']\n",
    "PPC=train_data[train_data['channel']=='PPC']['ltv']"
   ]
  },
  {
   "cell_type": "code",
   "execution_count": 41,
   "id": "a3b553aa",
   "metadata": {},
   "outputs": [
    {
     "name": "stderr",
     "output_type": "stream",
     "text": [
      "C:\\Users\\pinarsungu\\anaconda3\\lib\\site-packages\\seaborn\\distributions.py:2557: FutureWarning: `distplot` is a deprecated function and will be removed in a future version. Please adapt your code to use either `displot` (a figure-level function with similar flexibility) or `kdeplot` (an axes-level function for kernel density plots).\n",
      "  warnings.warn(msg, FutureWarning)\n",
      "C:\\Users\\pinarsungu\\anaconda3\\lib\\site-packages\\seaborn\\distributions.py:2557: FutureWarning: `distplot` is a deprecated function and will be removed in a future version. Please adapt your code to use either `displot` (a figure-level function with similar flexibility) or `kdeplot` (an axes-level function for kernel density plots).\n",
      "  warnings.warn(msg, FutureWarning)\n",
      "C:\\Users\\pinarsungu\\anaconda3\\lib\\site-packages\\seaborn\\distributions.py:2557: FutureWarning: `distplot` is a deprecated function and will be removed in a future version. Please adapt your code to use either `displot` (a figure-level function with similar flexibility) or `kdeplot` (an axes-level function for kernel density plots).\n",
      "  warnings.warn(msg, FutureWarning)\n",
      "C:\\Users\\pinarsungu\\anaconda3\\lib\\site-packages\\seaborn\\distributions.py:2557: FutureWarning: `distplot` is a deprecated function and will be removed in a future version. Please adapt your code to use either `displot` (a figure-level function with similar flexibility) or `kdeplot` (an axes-level function for kernel density plots).\n",
      "  warnings.warn(msg, FutureWarning)\n",
      "C:\\Users\\pinarsungu\\anaconda3\\lib\\site-packages\\seaborn\\distributions.py:2557: FutureWarning: `distplot` is a deprecated function and will be removed in a future version. Please adapt your code to use either `displot` (a figure-level function with similar flexibility) or `kdeplot` (an axes-level function for kernel density plots).\n",
      "  warnings.warn(msg, FutureWarning)\n"
     ]
    },
    {
     "data": {
      "image/png": "[encoded data removed]",
      "text/plain": [
       "<Figure size 432x288 with 1 Axes>"
      ]
     },
     "metadata": {
      "needs_background": "light"
     },
     "output_type": "display_data"
    }
   ],
   "source": [
    "sns.distplot(Email,hist=False,label='Email')\n",
    "sns.distplot(Direct,hist=False,label='Direct')\n",
    "sns.distplot(ShopPPC,hist=False,label='ShopPPC')\n",
    "sns.distplot(Intercompany,hist=False,label='Intercompany')\n",
    "sns.distplot(PPC,hist=False,label='PPC')\n",
    "plt.show()"
   ]
  },
  {
   "cell_type": "code",
   "execution_count": 42,
   "id": "2a34b334",
   "metadata": {},
   "outputs": [
    {
     "name": "stdout",
     "output_type": "stream",
     "text": [
      "KruskalResult(statistic=1.7439936835040744, pvalue=0.7827114645843862)\n"
     ]
    }
   ],
   "source": [
    "b =stats.kruskal(Email,Direct,ShopPPC, Intercompany, PPC)\n",
    "print(b)"
   ]
  },
  {
   "cell_type": "markdown",
   "id": "e5b02faa",
   "metadata": {},
   "source": [
    "p-value > 0.05 fail to reject H0, channel is not significant to predict LTV"
   ]
  },
  {
   "cell_type": "code",
   "execution_count": 43,
   "id": "6379f71d",
   "metadata": {},
   "outputs": [
    {
     "data": {
      "text/plain": [
       "F_onewayResult(statistic=0.4949577132226689, pvalue=0.7394609679490083)"
      ]
     },
     "execution_count": 43,
     "metadata": {},
     "output_type": "execute_result"
    }
   ],
   "source": [
    "stats.f_oneway(Email,Direct,ShopPPC, Intercompany, PPC)"
   ]
  },
  {
   "cell_type": "code",
   "execution_count": 44,
   "id": "d04afb3b",
   "metadata": {},
   "outputs": [],
   "source": [
    "p_values = [a[1],b[1],c[1]]"
   ]
  },
  {
   "cell_type": "code",
   "execution_count": 45,
   "id": "ed42e923",
   "metadata": {},
   "outputs": [
    {
     "data": {
      "text/html": [
       "<div>\n",
       "<style scoped>\n",
       "    .dataframe tbody tr th:only-of-type {\n",
       "        vertical-align: middle;\n",
       "    }\n",
       "\n",
       "    .dataframe tbody tr th {\n",
       "        vertical-align: top;\n",
       "    }\n",
       "\n",
       "    .dataframe thead th {\n",
       "        text-align: right;\n",
       "    }\n",
       "</style>\n",
       "<table border=\"1\" class=\"dataframe\">\n",
       "  <thead>\n",
       "    <tr style=\"text-align: right;\">\n",
       "      <th></th>\n",
       "      <th>P_Value</th>\n",
       "    </tr>\n",
       "  </thead>\n",
       "  <tbody>\n",
       "    <tr>\n",
       "      <th>bookerCC</th>\n",
       "      <td>3.902281e-07</td>\n",
       "    </tr>\n",
       "    <tr>\n",
       "      <th>channel</th>\n",
       "      <td>7.827115e-01</td>\n",
       "    </tr>\n",
       "    <tr>\n",
       "      <th>international</th>\n",
       "      <td>2.192105e-03</td>\n",
       "    </tr>\n",
       "  </tbody>\n",
       "</table>\n",
       "</div>"
      ],
      "text/plain": [
       "                    P_Value\n",
       "bookerCC       3.902281e-07\n",
       "channel        7.827115e-01\n",
       "international  2.192105e-03"
      ]
     },
     "execution_count": 45,
     "metadata": {},
     "output_type": "execute_result"
    }
   ],
   "source": [
    "pd.DataFrame(p_values,index=(cat_cols.columns),columns=['P_Value'])"
   ]
  },
  {
   "cell_type": "markdown",
   "id": "9c1aeeba",
   "metadata": {},
   "source": [
    "bookerCC and international play a significant role in predicting the LTV"
   ]
  },
  {
   "cell_type": "code",
   "execution_count": 46,
   "id": "151af18a",
   "metadata": {},
   "outputs": [
    {
     "data": {
      "text/html": [
       "<div>\n",
       "<style scoped>\n",
       "    .dataframe tbody tr th:only-of-type {\n",
       "        vertical-align: middle;\n",
       "    }\n",
       "\n",
       "    .dataframe tbody tr th {\n",
       "        vertical-align: top;\n",
       "    }\n",
       "\n",
       "    .dataframe thead th {\n",
       "        text-align: right;\n",
       "    }\n",
       "</style>\n",
       "<table border=\"1\" class=\"dataframe\">\n",
       "  <thead>\n",
       "    <tr style=\"text-align: right;\">\n",
       "      <th></th>\n",
       "      <th>length_of_stay</th>\n",
       "      <th>commission</th>\n",
       "      <th>ltv</th>\n",
       "    </tr>\n",
       "  </thead>\n",
       "  <tbody>\n",
       "    <tr>\n",
       "      <th>0</th>\n",
       "      <td>1</td>\n",
       "      <td>49.0</td>\n",
       "      <td>52.34</td>\n",
       "    </tr>\n",
       "    <tr>\n",
       "      <th>1</th>\n",
       "      <td>3</td>\n",
       "      <td>90.0</td>\n",
       "      <td>103.48</td>\n",
       "    </tr>\n",
       "    <tr>\n",
       "      <th>2</th>\n",
       "      <td>4</td>\n",
       "      <td>136.0</td>\n",
       "      <td>155.86</td>\n",
       "    </tr>\n",
       "    <tr>\n",
       "      <th>3</th>\n",
       "      <td>3</td>\n",
       "      <td>142.6</td>\n",
       "      <td>173.45</td>\n",
       "    </tr>\n",
       "    <tr>\n",
       "      <th>4</th>\n",
       "      <td>3</td>\n",
       "      <td>96.0</td>\n",
       "      <td>107.02</td>\n",
       "    </tr>\n",
       "    <tr>\n",
       "      <th>...</th>\n",
       "      <td>...</td>\n",
       "      <td>...</td>\n",
       "      <td>...</td>\n",
       "    </tr>\n",
       "    <tr>\n",
       "      <th>436</th>\n",
       "      <td>3</td>\n",
       "      <td>99.2</td>\n",
       "      <td>126.28</td>\n",
       "    </tr>\n",
       "    <tr>\n",
       "      <th>437</th>\n",
       "      <td>2</td>\n",
       "      <td>104.0</td>\n",
       "      <td>108.19</td>\n",
       "    </tr>\n",
       "    <tr>\n",
       "      <th>438</th>\n",
       "      <td>3</td>\n",
       "      <td>159.0</td>\n",
       "      <td>182.28</td>\n",
       "    </tr>\n",
       "    <tr>\n",
       "      <th>439</th>\n",
       "      <td>3</td>\n",
       "      <td>180.0</td>\n",
       "      <td>216.44</td>\n",
       "    </tr>\n",
       "    <tr>\n",
       "      <th>440</th>\n",
       "      <td>4</td>\n",
       "      <td>114.8</td>\n",
       "      <td>143.57</td>\n",
       "    </tr>\n",
       "  </tbody>\n",
       "</table>\n",
       "<p>441 rows × 3 columns</p>\n",
       "</div>"
      ],
      "text/plain": [
       "     length_of_stay  commission     ltv\n",
       "0                 1        49.0   52.34\n",
       "1                 3        90.0  103.48\n",
       "2                 4       136.0  155.86\n",
       "3                 3       142.6  173.45\n",
       "4                 3        96.0  107.02\n",
       "..              ...         ...     ...\n",
       "436               3        99.2  126.28\n",
       "437               2       104.0  108.19\n",
       "438               3       159.0  182.28\n",
       "439               3       180.0  216.44\n",
       "440               4       114.8  143.57\n",
       "\n",
       "[441 rows x 3 columns]"
      ]
     },
     "execution_count": 46,
     "metadata": {},
     "output_type": "execute_result"
    }
   ],
   "source": [
    "numerical_cols.drop(['international'], axis=1)"
   ]
  },
  {
   "cell_type": "code",
   "execution_count": 47,
   "id": "b225ab5a",
   "metadata": {},
   "outputs": [
    {
     "data": {
      "text/html": [
       "<div>\n",
       "<style scoped>\n",
       "    .dataframe tbody tr th:only-of-type {\n",
       "        vertical-align: middle;\n",
       "    }\n",
       "\n",
       "    .dataframe tbody tr th {\n",
       "        vertical-align: top;\n",
       "    }\n",
       "\n",
       "    .dataframe thead th {\n",
       "        text-align: right;\n",
       "    }\n",
       "</style>\n",
       "<table border=\"1\" class=\"dataframe\">\n",
       "  <thead>\n",
       "    <tr style=\"text-align: right;\">\n",
       "      <th></th>\n",
       "      <th>bookerCC</th>\n",
       "      <th>channel</th>\n",
       "      <th>international</th>\n",
       "    </tr>\n",
       "  </thead>\n",
       "  <tbody>\n",
       "    <tr>\n",
       "      <th>0</th>\n",
       "      <td>us</td>\n",
       "      <td>Intercompany</td>\n",
       "      <td>0</td>\n",
       "    </tr>\n",
       "    <tr>\n",
       "      <th>1</th>\n",
       "      <td>us</td>\n",
       "      <td>ShopPPC</td>\n",
       "      <td>0</td>\n",
       "    </tr>\n",
       "    <tr>\n",
       "      <th>2</th>\n",
       "      <td>us</td>\n",
       "      <td>Intercompany</td>\n",
       "      <td>0</td>\n",
       "    </tr>\n",
       "    <tr>\n",
       "      <th>3</th>\n",
       "      <td>us</td>\n",
       "      <td>PPC</td>\n",
       "      <td>1</td>\n",
       "    </tr>\n",
       "    <tr>\n",
       "      <th>4</th>\n",
       "      <td>us</td>\n",
       "      <td>Email</td>\n",
       "      <td>0</td>\n",
       "    </tr>\n",
       "  </tbody>\n",
       "</table>\n",
       "</div>"
      ],
      "text/plain": [
       "  bookerCC       channel  international\n",
       "0       us  Intercompany              0\n",
       "1       us       ShopPPC              0\n",
       "2       us  Intercompany              0\n",
       "3       us           PPC              1\n",
       "4       us         Email              0"
      ]
     },
     "execution_count": 47,
     "metadata": {},
     "output_type": "execute_result"
    }
   ],
   "source": [
    "cat_cols.head()"
   ]
  },
  {
   "cell_type": "code",
   "execution_count": 48,
   "id": "e1bf1e6f",
   "metadata": {},
   "outputs": [],
   "source": [
    "import statsmodels.api as sm"
   ]
  },
  {
   "cell_type": "markdown",
   "id": "7b1afb4e",
   "metadata": {},
   "source": [
    "# Data Preprocessing"
   ]
  },
  {
   "cell_type": "code",
   "execution_count": 49,
   "id": "f3e65718",
   "metadata": {},
   "outputs": [],
   "source": [
    "catg=pd.get_dummies(cat_cols,drop_first=True)"
   ]
  },
  {
   "cell_type": "code",
   "execution_count": 50,
   "id": "f7710112",
   "metadata": {},
   "outputs": [
    {
     "data": {
      "text/html": [
       "<div>\n",
       "<style scoped>\n",
       "    .dataframe tbody tr th:only-of-type {\n",
       "        vertical-align: middle;\n",
       "    }\n",
       "\n",
       "    .dataframe tbody tr th {\n",
       "        vertical-align: top;\n",
       "    }\n",
       "\n",
       "    .dataframe thead th {\n",
       "        text-align: right;\n",
       "    }\n",
       "</style>\n",
       "<table border=\"1\" class=\"dataframe\">\n",
       "  <thead>\n",
       "    <tr style=\"text-align: right;\">\n",
       "      <th></th>\n",
       "      <th>international</th>\n",
       "      <th>length_of_stay</th>\n",
       "      <th>commission</th>\n",
       "      <th>ltv</th>\n",
       "      <th>international</th>\n",
       "      <th>bookerCC_br</th>\n",
       "      <th>bookerCC_de</th>\n",
       "      <th>bookerCC_es</th>\n",
       "      <th>bookerCC_fr</th>\n",
       "      <th>bookerCC_gb</th>\n",
       "      <th>bookerCC_it</th>\n",
       "      <th>bookerCC_nl</th>\n",
       "      <th>bookerCC_us</th>\n",
       "      <th>channel_Email</th>\n",
       "      <th>channel_Intercompany</th>\n",
       "      <th>channel_PPC</th>\n",
       "      <th>channel_ShopPPC</th>\n",
       "    </tr>\n",
       "  </thead>\n",
       "  <tbody>\n",
       "    <tr>\n",
       "      <th>0</th>\n",
       "      <td>0</td>\n",
       "      <td>1</td>\n",
       "      <td>49.0</td>\n",
       "      <td>52.34</td>\n",
       "      <td>0</td>\n",
       "      <td>0</td>\n",
       "      <td>0</td>\n",
       "      <td>0</td>\n",
       "      <td>0</td>\n",
       "      <td>0</td>\n",
       "      <td>0</td>\n",
       "      <td>0</td>\n",
       "      <td>1</td>\n",
       "      <td>0</td>\n",
       "      <td>1</td>\n",
       "      <td>0</td>\n",
       "      <td>0</td>\n",
       "    </tr>\n",
       "    <tr>\n",
       "      <th>1</th>\n",
       "      <td>0</td>\n",
       "      <td>3</td>\n",
       "      <td>90.0</td>\n",
       "      <td>103.48</td>\n",
       "      <td>0</td>\n",
       "      <td>0</td>\n",
       "      <td>0</td>\n",
       "      <td>0</td>\n",
       "      <td>0</td>\n",
       "      <td>0</td>\n",
       "      <td>0</td>\n",
       "      <td>0</td>\n",
       "      <td>1</td>\n",
       "      <td>0</td>\n",
       "      <td>0</td>\n",
       "      <td>0</td>\n",
       "      <td>1</td>\n",
       "    </tr>\n",
       "    <tr>\n",
       "      <th>2</th>\n",
       "      <td>0</td>\n",
       "      <td>4</td>\n",
       "      <td>136.0</td>\n",
       "      <td>155.86</td>\n",
       "      <td>0</td>\n",
       "      <td>0</td>\n",
       "      <td>0</td>\n",
       "      <td>0</td>\n",
       "      <td>0</td>\n",
       "      <td>0</td>\n",
       "      <td>0</td>\n",
       "      <td>0</td>\n",
       "      <td>1</td>\n",
       "      <td>0</td>\n",
       "      <td>1</td>\n",
       "      <td>0</td>\n",
       "      <td>0</td>\n",
       "    </tr>\n",
       "    <tr>\n",
       "      <th>3</th>\n",
       "      <td>1</td>\n",
       "      <td>3</td>\n",
       "      <td>142.6</td>\n",
       "      <td>173.45</td>\n",
       "      <td>1</td>\n",
       "      <td>0</td>\n",
       "      <td>0</td>\n",
       "      <td>0</td>\n",
       "      <td>0</td>\n",
       "      <td>0</td>\n",
       "      <td>0</td>\n",
       "      <td>0</td>\n",
       "      <td>1</td>\n",
       "      <td>0</td>\n",
       "      <td>0</td>\n",
       "      <td>1</td>\n",
       "      <td>0</td>\n",
       "    </tr>\n",
       "    <tr>\n",
       "      <th>4</th>\n",
       "      <td>0</td>\n",
       "      <td>3</td>\n",
       "      <td>96.0</td>\n",
       "      <td>107.02</td>\n",
       "      <td>0</td>\n",
       "      <td>0</td>\n",
       "      <td>0</td>\n",
       "      <td>0</td>\n",
       "      <td>0</td>\n",
       "      <td>0</td>\n",
       "      <td>0</td>\n",
       "      <td>0</td>\n",
       "      <td>1</td>\n",
       "      <td>1</td>\n",
       "      <td>0</td>\n",
       "      <td>0</td>\n",
       "      <td>0</td>\n",
       "    </tr>\n",
       "  </tbody>\n",
       "</table>\n",
       "</div>"
      ],
      "text/plain": [
       "   international  length_of_stay  commission     ltv  international  \\\n",
       "0              0               1        49.0   52.34              0   \n",
       "1              0               3        90.0  103.48              0   \n",
       "2              0               4       136.0  155.86              0   \n",
       "3              1               3       142.6  173.45              1   \n",
       "4              0               3        96.0  107.02              0   \n",
       "\n",
       "   bookerCC_br  bookerCC_de  bookerCC_es  bookerCC_fr  bookerCC_gb  \\\n",
       "0            0            0            0            0            0   \n",
       "1            0            0            0            0            0   \n",
       "2            0            0            0            0            0   \n",
       "3            0            0            0            0            0   \n",
       "4            0            0            0            0            0   \n",
       "\n",
       "   bookerCC_it  bookerCC_nl  bookerCC_us  channel_Email  channel_Intercompany  \\\n",
       "0            0            0            1              0                     1   \n",
       "1            0            0            1              0                     0   \n",
       "2            0            0            1              0                     1   \n",
       "3            0            0            1              0                     0   \n",
       "4            0            0            1              1                     0   \n",
       "\n",
       "   channel_PPC  channel_ShopPPC  \n",
       "0            0                0  \n",
       "1            0                1  \n",
       "2            0                0  \n",
       "3            1                0  \n",
       "4            0                0  "
      ]
     },
     "execution_count": 50,
     "metadata": {},
     "output_type": "execute_result"
    }
   ],
   "source": [
    "dfn = pd.concat([numerical_cols,catg],axis=1)\n",
    "dfn.head()"
   ]
  },
  {
   "cell_type": "code",
   "execution_count": 51,
   "id": "396b22a7",
   "metadata": {},
   "outputs": [
    {
     "data": {
      "text/html": [
       "<table class=\"simpletable\">\n",
       "<caption>OLS Regression Results</caption>\n",
       "<tr>\n",
       "  <th>Dep. Variable:</th>           <td>ltv</td>       <th>  R-squared:         </th> <td>   0.995</td>\n",
       "</tr>\n",
       "<tr>\n",
       "  <th>Model:</th>                   <td>OLS</td>       <th>  Adj. R-squared:    </th> <td>   0.995</td>\n",
       "</tr>\n",
       "<tr>\n",
       "  <th>Method:</th>             <td>Least Squares</td>  <th>  F-statistic:       </th> <td>   5980.</td>\n",
       "</tr>\n",
       "<tr>\n",
       "  <th>Date:</th>             <td>Wed, 13 Oct 2021</td> <th>  Prob (F-statistic):</th>  <td>  0.00</td> \n",
       "</tr>\n",
       "<tr>\n",
       "  <th>Time:</th>                 <td>09:28:47</td>     <th>  Log-Likelihood:    </th> <td> -1469.6</td>\n",
       "</tr>\n",
       "<tr>\n",
       "  <th>No. Observations:</th>      <td>   441</td>      <th>  AIC:               </th> <td>   2971.</td>\n",
       "</tr>\n",
       "<tr>\n",
       "  <th>Df Residuals:</th>          <td>   425</td>      <th>  BIC:               </th> <td>   3037.</td>\n",
       "</tr>\n",
       "<tr>\n",
       "  <th>Df Model:</th>              <td>    15</td>      <th>                     </th>     <td> </td>   \n",
       "</tr>\n",
       "<tr>\n",
       "  <th>Covariance Type:</th>      <td>nonrobust</td>    <th>                     </th>     <td> </td>   \n",
       "</tr>\n",
       "</table>\n",
       "<table class=\"simpletable\">\n",
       "<tr>\n",
       "            <td></td>              <th>coef</th>     <th>std err</th>      <th>t</th>      <th>P>|t|</th>  <th>[0.025</th>    <th>0.975]</th>  \n",
       "</tr>\n",
       "<tr>\n",
       "  <th>const</th>                <td>  -11.0011</td> <td>    1.437</td> <td>   -7.654</td> <td> 0.000</td> <td>  -13.826</td> <td>   -8.176</td>\n",
       "</tr>\n",
       "<tr>\n",
       "  <th>international</th>        <td>    3.1890</td> <td>    0.353</td> <td>    9.021</td> <td> 0.000</td> <td>    2.494</td> <td>    3.884</td>\n",
       "</tr>\n",
       "<tr>\n",
       "  <th>length_of_stay</th>       <td>    0.7930</td> <td>    0.500</td> <td>    1.586</td> <td> 0.113</td> <td>   -0.190</td> <td>    1.776</td>\n",
       "</tr>\n",
       "<tr>\n",
       "  <th>commission</th>           <td>    1.2693</td> <td>    0.013</td> <td>   97.218</td> <td> 0.000</td> <td>    1.244</td> <td>    1.295</td>\n",
       "</tr>\n",
       "<tr>\n",
       "  <th>international</th>        <td>    3.1890</td> <td>    0.353</td> <td>    9.021</td> <td> 0.000</td> <td>    2.494</td> <td>    3.884</td>\n",
       "</tr>\n",
       "<tr>\n",
       "  <th>bookerCC_br</th>          <td>    6.2255</td> <td>    1.491</td> <td>    4.177</td> <td> 0.000</td> <td>    3.296</td> <td>    9.155</td>\n",
       "</tr>\n",
       "<tr>\n",
       "  <th>bookerCC_de</th>          <td>    1.4612</td> <td>    1.428</td> <td>    1.023</td> <td> 0.307</td> <td>   -1.345</td> <td>    4.267</td>\n",
       "</tr>\n",
       "<tr>\n",
       "  <th>bookerCC_es</th>          <td>   -0.9794</td> <td>    1.519</td> <td>   -0.645</td> <td> 0.519</td> <td>   -3.965</td> <td>    2.006</td>\n",
       "</tr>\n",
       "<tr>\n",
       "  <th>bookerCC_fr</th>          <td>    2.6216</td> <td>    1.544</td> <td>    1.698</td> <td> 0.090</td> <td>   -0.413</td> <td>    5.657</td>\n",
       "</tr>\n",
       "<tr>\n",
       "  <th>bookerCC_gb</th>          <td>    3.6698</td> <td>    1.497</td> <td>    2.451</td> <td> 0.015</td> <td>    0.726</td> <td>    6.613</td>\n",
       "</tr>\n",
       "<tr>\n",
       "  <th>bookerCC_it</th>          <td>    3.8142</td> <td>    1.530</td> <td>    2.493</td> <td> 0.013</td> <td>    0.807</td> <td>    6.821</td>\n",
       "</tr>\n",
       "<tr>\n",
       "  <th>bookerCC_nl</th>          <td>    2.7133</td> <td>    1.964</td> <td>    1.381</td> <td> 0.168</td> <td>   -1.148</td> <td>    6.575</td>\n",
       "</tr>\n",
       "<tr>\n",
       "  <th>bookerCC_us</th>          <td>    4.8112</td> <td>    1.535</td> <td>    3.135</td> <td> 0.002</td> <td>    1.795</td> <td>    7.827</td>\n",
       "</tr>\n",
       "<tr>\n",
       "  <th>channel_Email</th>        <td>   -7.0472</td> <td>    0.959</td> <td>   -7.351</td> <td> 0.000</td> <td>   -8.931</td> <td>   -5.163</td>\n",
       "</tr>\n",
       "<tr>\n",
       "  <th>channel_Intercompany</th> <td>   -3.6186</td> <td>    1.083</td> <td>   -3.340</td> <td> 0.001</td> <td>   -5.748</td> <td>   -1.489</td>\n",
       "</tr>\n",
       "<tr>\n",
       "  <th>channel_PPC</th>          <td>   -8.1249</td> <td>    1.113</td> <td>   -7.303</td> <td> 0.000</td> <td>  -10.312</td> <td>   -5.938</td>\n",
       "</tr>\n",
       "<tr>\n",
       "  <th>channel_ShopPPC</th>      <td>   -7.8320</td> <td>    1.076</td> <td>   -7.278</td> <td> 0.000</td> <td>   -9.947</td> <td>   -5.717</td>\n",
       "</tr>\n",
       "</table>\n",
       "<table class=\"simpletable\">\n",
       "<tr>\n",
       "  <th>Omnibus:</th>       <td>211.530</td> <th>  Durbin-Watson:     </th> <td>   2.064</td>\n",
       "</tr>\n",
       "<tr>\n",
       "  <th>Prob(Omnibus):</th> <td> 0.000</td>  <th>  Jarque-Bera (JB):  </th> <td>4711.473</td>\n",
       "</tr>\n",
       "<tr>\n",
       "  <th>Skew:</th>          <td> 1.529</td>  <th>  Prob(JB):          </th> <td>    0.00</td>\n",
       "</tr>\n",
       "<tr>\n",
       "  <th>Kurtosis:</th>      <td>18.718</td>  <th>  Cond. No.          </th> <td>3.56e+17</td>\n",
       "</tr>\n",
       "</table><br/><br/>Notes:<br/>[1] Standard Errors assume that the covariance matrix of the errors is correctly specified.<br/>[2] The smallest eigenvalue is 5.45e-29. This might indicate that there are<br/>strong multicollinearity problems or that the design matrix is singular."
      ],
      "text/plain": [
       "<class 'statsmodels.iolib.summary.Summary'>\n",
       "\"\"\"\n",
       "                            OLS Regression Results                            \n",
       "==============================================================================\n",
       "Dep. Variable:                    ltv   R-squared:                       0.995\n",
       "Model:                            OLS   Adj. R-squared:                  0.995\n",
       "Method:                 Least Squares   F-statistic:                     5980.\n",
       "Date:                Wed, 13 Oct 2021   Prob (F-statistic):               0.00\n",
       "Time:                        09:28:47   Log-Likelihood:                -1469.6\n",
       "No. Observations:                 441   AIC:                             2971.\n",
       "Df Residuals:                     425   BIC:                             3037.\n",
       "Df Model:                          15                                         \n",
       "Covariance Type:            nonrobust                                         \n",
       "========================================================================================\n",
       "                           coef    std err          t      P>|t|      [0.025      0.975]\n",
       "----------------------------------------------------------------------------------------\n",
       "const                  -11.0011      1.437     -7.654      0.000     -13.826      -8.176\n",
       "international            3.1890      0.353      9.021      0.000       2.494       3.884\n",
       "length_of_stay           0.7930      0.500      1.586      0.113      -0.190       1.776\n",
       "commission               1.2693      0.013     97.218      0.000       1.244       1.295\n",
       "international            3.1890      0.353      9.021      0.000       2.494       3.884\n",
       "bookerCC_br              6.2255      1.491      4.177      0.000       3.296       9.155\n",
       "bookerCC_de              1.4612      1.428      1.023      0.307      -1.345       4.267\n",
       "bookerCC_es             -0.9794      1.519     -0.645      0.519      -3.965       2.006\n",
       "bookerCC_fr              2.6216      1.544      1.698      0.090      -0.413       5.657\n",
       "bookerCC_gb              3.6698      1.497      2.451      0.015       0.726       6.613\n",
       "bookerCC_it              3.8142      1.530      2.493      0.013       0.807       6.821\n",
       "bookerCC_nl              2.7133      1.964      1.381      0.168      -1.148       6.575\n",
       "bookerCC_us              4.8112      1.535      3.135      0.002       1.795       7.827\n",
       "channel_Email           -7.0472      0.959     -7.351      0.000      -8.931      -5.163\n",
       "channel_Intercompany    -3.6186      1.083     -3.340      0.001      -5.748      -1.489\n",
       "channel_PPC             -8.1249      1.113     -7.303      0.000     -10.312      -5.938\n",
       "channel_ShopPPC         -7.8320      1.076     -7.278      0.000      -9.947      -5.717\n",
       "==============================================================================\n",
       "Omnibus:                      211.530   Durbin-Watson:                   2.064\n",
       "Prob(Omnibus):                  0.000   Jarque-Bera (JB):             4711.473\n",
       "Skew:                           1.529   Prob(JB):                         0.00\n",
       "Kurtosis:                      18.718   Cond. No.                     3.56e+17\n",
       "==============================================================================\n",
       "\n",
       "Notes:\n",
       "[1] Standard Errors assume that the covariance matrix of the errors is correctly specified.\n",
       "[2] The smallest eigenvalue is 5.45e-29. This might indicate that there are\n",
       "strong multicollinearity problems or that the design matrix is singular.\n",
       "\"\"\""
      ]
     },
     "execution_count": 51,
     "metadata": {},
     "output_type": "execute_result"
    }
   ],
   "source": [
    "X=dfn.drop(['ltv'],axis=1)\n",
    "y=dfn['ltv']\n",
    "X_constant=sm.add_constant(X)\n",
    "lin_reg=sm.OLS(y,X_constant).fit()\n",
    "lin_reg.summary()"
   ]
  },
  {
   "cell_type": "markdown",
   "id": "24e910ff",
   "metadata": {},
   "source": [
    "Assumptions:\n",
    "\n",
    "No autocorrelation\n",
    "\n",
    "Linearity of residuals\n",
    "\n",
    "Normality of error terms\n",
    "\n",
    "No Heteroscedacity\n",
    "\n",
    "No strong MultiCollinearity\n",
    "\n",
    "\n",
    "Assumption 1 No Auto correlation.\n",
    "\n",
    "Test needed : Durbin- Watson Test.\n",
    "\n",
    "It's value ranges from 0-4. If the value of Durbin- Watson is Between 0-2, it's known as Positive Autocorrelation. If the value ranges from 2-4, it is known as Negative autocorrelation. If the value is exactly 2, it means No Autocorrelation. For a good linear model, it should have low or no autocorrelation. we can see here the values of dublin watson test: 2.064 (No AUTO-CORRELATION)\n",
    "\n",
    "From the graph below, we can easily see that there is no autocorrelation."
   ]
  },
  {
   "cell_type": "code",
   "execution_count": 52,
   "id": "a7803200",
   "metadata": {},
   "outputs": [
    {
     "name": "stderr",
     "output_type": "stream",
     "text": [
      "<ipython-input-52-4466f1a047e8>:4: UserWarning: Matplotlib is currently using module://ipykernel.pylab.backend_inline, which is a non-GUI backend, so cannot show the figure.\n",
      "  acf.show()\n"
     ]
    },
    {
     "data": {
      "image/png": "[encoded data removed]",
      "text/plain": [
       "<Figure size 432x288 with 1 Axes>"
      ]
     },
     "metadata": {
      "needs_background": "light"
     },
     "output_type": "display_data"
    }
   ],
   "source": [
    "import statsmodels.tsa.api as smt #timeseries analysis\n",
    "\n",
    "acf = smt.graphics.plot_acf(lin_reg.resid, lags=40 , alpha=0.05)#auto_correlation value, lags= previous value\n",
    "acf.show()"
   ]
  },
  {
   "cell_type": "markdown",
   "id": "4ec5ee63",
   "metadata": {},
   "source": [
    "Assumption 2- Normality of Residuals\n",
    "\n",
    "The second assumption is the Normality of Residuals / Error terms.\n",
    "\n",
    "For this we prefer the Jarque Bera test. For a good model, the residuals should be normally distributed. The higher the value of Jarque Bera test , the lesser the residuals are normally distributed. We generally prefer a lower value of jarque bera test.\n",
    "\n",
    "The Jarque–Bera test is a goodness-of-fit test of whether sample data have the skewness and kurtosis matching a normal distribution. A large value for the jarque-bera test indicates non normality.\n",
    "\n",
    "The jarque bera test tests whether the sample data has the skewness and kurtosis matching a normal distribution. Note that this test generally works good for large enough number of data samples(>2000) as the test statistics asymptotically has a chi squared distribution with degrees 2 of freedom."
   ]
  },
  {
   "cell_type": "markdown",
   "id": "65c4665b",
   "metadata": {},
   "source": [
    "H0: the error terms are normally distributed\n",
    "dof for residuals is n-2"
   ]
  },
  {
   "cell_type": "code",
   "execution_count": 53,
   "id": "8d57d246",
   "metadata": {},
   "outputs": [
    {
     "name": "stdout",
     "output_type": "stream",
     "text": [
      "Jarque_beraResult(statistic=4711.473468942737, pvalue=0.0)\n"
     ]
    }
   ],
   "source": [
    "from scipy import stats\n",
    "print(stats.jarque_bera(lin_reg.resid))"
   ]
  },
  {
   "cell_type": "markdown",
   "id": "847e05af",
   "metadata": {},
   "source": [
    "The critical chi square value at the 5% level of significance is 5.99. If the computed value exceeds this value the null hypothesis is rejected. In this case the computed value of the JB statistic 4711.47 is greater than 5.99. Thus we reject the null hypothesis that the error terms are normally distributed."
   ]
  },
  {
   "cell_type": "code",
   "execution_count": 54,
   "id": "ea600a11",
   "metadata": {},
   "outputs": [
    {
     "name": "stderr",
     "output_type": "stream",
     "text": [
      "C:\\Users\\pinarsungu\\anaconda3\\lib\\site-packages\\seaborn\\distributions.py:2557: FutureWarning: `distplot` is a deprecated function and will be removed in a future version. Please adapt your code to use either `displot` (a figure-level function with similar flexibility) or `histplot` (an axes-level function for histograms).\n",
      "  warnings.warn(msg, FutureWarning)\n"
     ]
    },
    {
     "data": {
      "image/png": "[encoded data removed]",
      "text/plain": [
       "<Figure size 432x288 with 1 Axes>"
      ]
     },
     "metadata": {
      "needs_background": "light"
     },
     "output_type": "display_data"
    }
   ],
   "source": [
    "import seaborn as sns\n",
    "\n",
    "sns.distplot(lin_reg.resid)\n",
    "plt.show()"
   ]
  },
  {
   "cell_type": "markdown",
   "id": "7bc5f189",
   "metadata": {},
   "source": [
    "From the graph we infer that due to the high value of Jarque Bera test, only few residuals are normally distributed"
   ]
  },
  {
   "cell_type": "markdown",
   "id": "f9d9eeaf",
   "metadata": {},
   "source": [
    "Asssumption 3 - Linearity of residuals\n",
    "\n",
    "Here we have 2 options. Either we can plot the observed values Vs predicted values and plot the Residual Vs predicted values and see the linearity of residuals. OR We can go for rainbow test. Let's look both of them one by one."
   ]
  },
  {
   "cell_type": "code",
   "execution_count": 55,
   "id": "d0135724",
   "metadata": {},
   "outputs": [
    {
     "data": {
      "text/plain": [
       "(2.2584307208739167, 2.4249408498330877e-09)"
      ]
     },
     "execution_count": 55,
     "metadata": {},
     "output_type": "execute_result"
    }
   ],
   "source": [
    "import statsmodels.api as sm\n",
    "sm.stats.diagnostic.linear_rainbow(res=lin_reg, frac=0.5)#the fraction of the data to include in the center model"
   ]
  },
  {
   "cell_type": "markdown",
   "id": "fae6652d",
   "metadata": {},
   "source": [
    "H0:The data is linear, pvalue < 0.05 reject H0, so residuals are not normally distributed"
   ]
  },
  {
   "cell_type": "markdown",
   "id": "c1e496f1",
   "metadata": {},
   "source": [
    "Assumption 4 - Homoscedasticity_test(using goldfeld test) OR (Beusch-Wagon Test) Homoscedacity :: If the variance of the residuals are symmetrically distributed across the regression line , then the data is said to homoscedastic.\n",
    "\n",
    "Heteroscedacity :: If the variance is unequal for the residuals across the regression line, then the data is said to be heteroscedastic. In this case the residuals can form an arrow shape or any other non symmetrical shape.\n",
    "\n",
    "This test is based on the hytpothesis testing where null and alternate hypothesis are: 𝐻0:𝜎𝑢𝑖 𝑖𝑠 𝑐𝑜𝑛𝑠𝑡𝑎𝑛𝑡 𝑎𝑐𝑟𝑜𝑠𝑠 𝑡ℎ𝑒 𝑟𝑎𝑛𝑔𝑒 𝑜𝑓 𝑑𝑎𝑡𝑎 𝐻𝑎:𝜎𝑢𝑖 𝑖𝑠 𝑛𝑜𝑡 𝑐𝑜𝑛𝑠𝑡𝑎𝑛𝑡 𝑎𝑐𝑟𝑜𝑠𝑠 𝑡ℎ𝑒 𝑟𝑎𝑛𝑔𝑒 𝑜𝑓 𝑑𝑎𝑡𝑎 The residuals should be homoscedastic.\n",
    "\n",
    "Goldfeld Test"
   ]
  },
  {
   "cell_type": "code",
   "execution_count": 56,
   "id": "daa698f7",
   "metadata": {},
   "outputs": [
    {
     "data": {
      "text/plain": [
       "(0.9817147657650074, 0.5528891540241939, 'increasing')"
      ]
     },
     "execution_count": 56,
     "metadata": {},
     "output_type": "execute_result"
    }
   ],
   "source": [
    "import statsmodels.stats.api as sms\n",
    "\n",
    "name=['F-statistic','p-value']\n",
    "test=sms.het_goldfeldquandt(lin_reg.resid,lin_reg.model.exog)\n",
    "\n",
    "test"
   ]
  },
  {
   "cell_type": "markdown",
   "id": "098e0bb6",
   "metadata": {},
   "source": [
    "p-value > 0.05 indicates we fail to reject the null in favor of heteroscedasticity."
   ]
  },
  {
   "cell_type": "markdown",
   "id": "5cb6cef4",
   "metadata": {},
   "source": [
    "Assumption 5- NO MULTI COLLINEARITY\n",
    "\n",
    "The interpretation of VIF is as follows: the square root of a given variable’s VIF shows how much larger the standard error is, compared with what it would be if that predictor were uncorrelated with the other features in the model. If no features are correlated, then all values for VIF will be 1."
   ]
  },
  {
   "cell_type": "code",
   "execution_count": 57,
   "id": "e34b247c",
   "metadata": {},
   "outputs": [
    {
     "name": "stderr",
     "output_type": "stream",
     "text": [
      "C:\\Users\\pinarsungu\\anaconda3\\lib\\site-packages\\statsmodels\\stats\\outliers_influence.py:193: RuntimeWarning: divide by zero encountered in double_scalars\n",
      "  vif = 1. / (1. - r_squared_i)\n"
     ]
    },
    {
     "data": {
      "text/html": [
       "<div>\n",
       "<style scoped>\n",
       "    .dataframe tbody tr th:only-of-type {\n",
       "        vertical-align: middle;\n",
       "    }\n",
       "\n",
       "    .dataframe tbody tr th {\n",
       "        vertical-align: top;\n",
       "    }\n",
       "\n",
       "    .dataframe thead th {\n",
       "        text-align: right;\n",
       "    }\n",
       "</style>\n",
       "<table border=\"1\" class=\"dataframe\">\n",
       "  <thead>\n",
       "    <tr style=\"text-align: right;\">\n",
       "      <th></th>\n",
       "      <th>vif</th>\n",
       "    </tr>\n",
       "  </thead>\n",
       "  <tbody>\n",
       "    <tr>\n",
       "      <th>international</th>\n",
       "      <td>inf</td>\n",
       "    </tr>\n",
       "    <tr>\n",
       "      <th>length_of_stay</th>\n",
       "      <td>8.931037</td>\n",
       "    </tr>\n",
       "    <tr>\n",
       "      <th>commission</th>\n",
       "      <td>9.186971</td>\n",
       "    </tr>\n",
       "    <tr>\n",
       "      <th>international</th>\n",
       "      <td>inf</td>\n",
       "    </tr>\n",
       "    <tr>\n",
       "      <th>bookerCC_br</th>\n",
       "      <td>2.808704</td>\n",
       "    </tr>\n",
       "    <tr>\n",
       "      <th>bookerCC_de</th>\n",
       "      <td>2.547862</td>\n",
       "    </tr>\n",
       "    <tr>\n",
       "      <th>bookerCC_es</th>\n",
       "      <td>2.070409</td>\n",
       "    </tr>\n",
       "    <tr>\n",
       "      <th>bookerCC_fr</th>\n",
       "      <td>2.100700</td>\n",
       "    </tr>\n",
       "    <tr>\n",
       "      <th>bookerCC_gb</th>\n",
       "      <td>2.194191</td>\n",
       "    </tr>\n",
       "    <tr>\n",
       "      <th>bookerCC_it</th>\n",
       "      <td>2.100434</td>\n",
       "    </tr>\n",
       "    <tr>\n",
       "      <th>bookerCC_nl</th>\n",
       "      <td>1.472340</td>\n",
       "    </tr>\n",
       "    <tr>\n",
       "      <th>bookerCC_us</th>\n",
       "      <td>2.035955</td>\n",
       "    </tr>\n",
       "    <tr>\n",
       "      <th>channel_Email</th>\n",
       "      <td>1.735566</td>\n",
       "    </tr>\n",
       "    <tr>\n",
       "      <th>channel_Intercompany</th>\n",
       "      <td>1.549262</td>\n",
       "    </tr>\n",
       "    <tr>\n",
       "      <th>channel_PPC</th>\n",
       "      <td>1.529539</td>\n",
       "    </tr>\n",
       "    <tr>\n",
       "      <th>channel_ShopPPC</th>\n",
       "      <td>1.575747</td>\n",
       "    </tr>\n",
       "  </tbody>\n",
       "</table>\n",
       "</div>"
      ],
      "text/plain": [
       "                           vif\n",
       "international              inf\n",
       "length_of_stay        8.931037\n",
       "commission            9.186971\n",
       "international              inf\n",
       "bookerCC_br           2.808704\n",
       "bookerCC_de           2.547862\n",
       "bookerCC_es           2.070409\n",
       "bookerCC_fr           2.100700\n",
       "bookerCC_gb           2.194191\n",
       "bookerCC_it           2.100434\n",
       "bookerCC_nl           1.472340\n",
       "bookerCC_us           2.035955\n",
       "channel_Email         1.735566\n",
       "channel_Intercompany  1.549262\n",
       "channel_PPC           1.529539\n",
       "channel_ShopPPC       1.575747"
      ]
     },
     "execution_count": 57,
     "metadata": {},
     "output_type": "execute_result"
    }
   ],
   "source": [
    "from statsmodels.stats.outliers_influence import variance_inflation_factor\n",
    "vif = [variance_inflation_factor(X_constant.values, i) for i in range(X_constant.shape[1])]\n",
    "pd.DataFrame({'vif': vif[1:]}, index=X.columns)"
   ]
  },
  {
   "cell_type": "markdown",
   "id": "be7330dc",
   "metadata": {},
   "source": [
    "we can see that there is high VIF in column international/domestic type. These veriables are not significant to predict target  we can remove them"
   ]
  },
  {
   "cell_type": "code",
   "execution_count": 58,
   "id": "f35fbcef",
   "metadata": {},
   "outputs": [],
   "source": [
    "from sklearn.model_selection import train_test_split\n",
    "X=dfn.drop(['ltv', 'international'],axis=1)\n",
    "y=dfn['ltv']          \n",
    "#y =np.log(y)\n",
    "X_train,X_test,y_train,y_test=train_test_split(X,y,test_size=0.30,random_state=42)"
   ]
  },
  {
   "cell_type": "code",
   "execution_count": 59,
   "id": "102d621a",
   "metadata": {},
   "outputs": [
    {
     "name": "stdout",
     "output_type": "stream",
     "text": [
      "(308, 14)\n",
      "(308,)\n",
      "(133, 14)\n",
      "(133,)\n"
     ]
    }
   ],
   "source": [
    "print(X_train.shape)\n",
    "print(y_train.shape)\n",
    "print(X_test.shape)\n",
    "print(y_test.shape)"
   ]
  },
  {
   "cell_type": "markdown",
   "id": "a6ab7fe3",
   "metadata": {},
   "source": [
    "# Model Building"
   ]
  },
  {
   "cell_type": "markdown",
   "id": "6918c7f5",
   "metadata": {},
   "source": [
    "# Linear Regression"
   ]
  },
  {
   "cell_type": "code",
   "execution_count": 60,
   "id": "b1b42ff7",
   "metadata": {},
   "outputs": [],
   "source": [
    "from sklearn.linear_model import LinearRegression"
   ]
  },
  {
   "cell_type": "code",
   "execution_count": 61,
   "id": "0ff5a9f9",
   "metadata": {},
   "outputs": [
    {
     "name": "stdout",
     "output_type": "stream",
     "text": [
      "R^2 score for train: 0.9947780712859265\n",
      "R^2 score for test: 0.9927816563969425\n"
     ]
    }
   ],
   "source": [
    "lr = LinearRegression()\n",
    "model = lr.fit(X_train,y_train)\n",
    "print(f'R^2 score for train: {lr.score(X_train, y_train)}')\n",
    "print(f'R^2 score for test: {lr.score(X_test, y_test)}')"
   ]
  },
  {
   "cell_type": "code",
   "execution_count": 62,
   "id": "61f59b2a",
   "metadata": {},
   "outputs": [],
   "source": [
    "y_pred = model.predict(X_test)"
   ]
  },
  {
   "cell_type": "code",
   "execution_count": 63,
   "id": "2599b6d6",
   "metadata": {},
   "outputs": [],
   "source": [
    "from sklearn.metrics import mean_squared_error,r2_score,mean_absolute_error"
   ]
  },
  {
   "cell_type": "code",
   "execution_count": 64,
   "id": "5d81acdb",
   "metadata": {},
   "outputs": [
    {
     "name": "stdout",
     "output_type": "stream",
     "text": [
      "RMSE: 7.9337633976918145\n",
      "MAE 5.2862474047901955\n",
      "R-squared: 0.9927816563969425\n"
     ]
    }
   ],
   "source": [
    "print('RMSE:',np.sqrt(mean_squared_error(y_test,y_pred)))\n",
    "print(\"MAE\",mean_absolute_error(y_test,y_pred))\n",
    "print('R-squared:',r2_score(y_test,y_pred))"
   ]
  },
  {
   "cell_type": "code",
   "execution_count": 65,
   "id": "93109142",
   "metadata": {},
   "outputs": [
    {
     "name": "stdout",
     "output_type": "stream",
     "text": [
      "['commission', 'bookerCC_br', 'bookerCC_de', 'bookerCC_fr', 'bookerCC_gb', 'bookerCC_it', 'bookerCC_nl', 'bookerCC_us', 'channel_Email', 'channel_Intercompany', 'channel_PPC', 'channel_ShopPPC']\n"
     ]
    }
   ],
   "source": [
    "#Feature Selection by Backward Elimination\n",
    "cols = list(X.columns)\n",
    "pmax = 1\n",
    "while (len(cols)>0):\n",
    "    p= []\n",
    "    X = X[cols]\n",
    "    Xc = sm.add_constant(X)\n",
    "    model = sm.OLS(y,Xc).fit()\n",
    "    p = pd.Series(model.pvalues.values[1:],index = cols)      \n",
    "    pmax = max(p)\n",
    "    feature_with_p_max = p.idxmax()\n",
    "    if(pmax>0.05):\n",
    "        cols.remove(feature_with_p_max)\n",
    "    else:\n",
    "        break\n",
    "selected_features = cols\n",
    "print(selected_features)"
   ]
  },
  {
   "cell_type": "code",
   "execution_count": 66,
   "id": "97eac3fa",
   "metadata": {},
   "outputs": [],
   "source": [
    "X_new = X[selected_features]"
   ]
  },
  {
   "cell_type": "code",
   "execution_count": 67,
   "id": "050b2e76",
   "metadata": {},
   "outputs": [
    {
     "data": {
      "text/html": [
       "<table class=\"simpletable\">\n",
       "<caption>OLS Regression Results</caption>\n",
       "<tr>\n",
       "  <th>Dep. Variable:</th>           <td>ltv</td>       <th>  R-squared:         </th> <td>   0.994</td>\n",
       "</tr>\n",
       "<tr>\n",
       "  <th>Model:</th>                   <td>OLS</td>       <th>  Adj. R-squared:    </th> <td>   0.994</td>\n",
       "</tr>\n",
       "<tr>\n",
       "  <th>Method:</th>             <td>Least Squares</td>  <th>  F-statistic:       </th> <td>   6293.</td>\n",
       "</tr>\n",
       "<tr>\n",
       "  <th>Date:</th>             <td>Wed, 13 Oct 2021</td> <th>  Prob (F-statistic):</th>  <td>  0.00</td> \n",
       "</tr>\n",
       "<tr>\n",
       "  <th>Time:</th>                 <td>09:28:48</td>     <th>  Log-Likelihood:    </th> <td> -1508.9</td>\n",
       "</tr>\n",
       "<tr>\n",
       "  <th>No. Observations:</th>      <td>   441</td>      <th>  AIC:               </th> <td>   3044.</td>\n",
       "</tr>\n",
       "<tr>\n",
       "  <th>Df Residuals:</th>          <td>   428</td>      <th>  BIC:               </th> <td>   3097.</td>\n",
       "</tr>\n",
       "<tr>\n",
       "  <th>Df Model:</th>              <td>    12</td>      <th>                     </th>     <td> </td>   \n",
       "</tr>\n",
       "<tr>\n",
       "  <th>Covariance Type:</th>      <td>nonrobust</td>    <th>                     </th>     <td> </td>   \n",
       "</tr>\n",
       "</table>\n",
       "<table class=\"simpletable\">\n",
       "<tr>\n",
       "            <td></td>              <th>coef</th>     <th>std err</th>      <th>t</th>      <th>P>|t|</th>  <th>[0.025</th>    <th>0.975]</th>  \n",
       "</tr>\n",
       "<tr>\n",
       "  <th>const</th>                <td>   -8.5667</td> <td>    1.189</td> <td>   -7.205</td> <td> 0.000</td> <td>  -10.904</td> <td>   -6.230</td>\n",
       "</tr>\n",
       "<tr>\n",
       "  <th>commission</th>           <td>    1.2887</td> <td>    0.005</td> <td>  266.502</td> <td> 0.000</td> <td>    1.279</td> <td>    1.298</td>\n",
       "</tr>\n",
       "<tr>\n",
       "  <th>bookerCC_br</th>          <td>    5.9261</td> <td>    1.218</td> <td>    4.865</td> <td> 0.000</td> <td>    3.532</td> <td>    8.320</td>\n",
       "</tr>\n",
       "<tr>\n",
       "  <th>bookerCC_de</th>          <td>    3.1498</td> <td>    1.212</td> <td>    2.598</td> <td> 0.010</td> <td>    0.767</td> <td>    5.533</td>\n",
       "</tr>\n",
       "<tr>\n",
       "  <th>bookerCC_fr</th>          <td>    4.4636</td> <td>    1.373</td> <td>    3.251</td> <td> 0.001</td> <td>    1.765</td> <td>    7.162</td>\n",
       "</tr>\n",
       "<tr>\n",
       "  <th>bookerCC_gb</th>          <td>    5.4712</td> <td>    1.322</td> <td>    4.139</td> <td> 0.000</td> <td>    2.873</td> <td>    8.069</td>\n",
       "</tr>\n",
       "<tr>\n",
       "  <th>bookerCC_it</th>          <td>    4.4242</td> <td>    1.362</td> <td>    3.248</td> <td> 0.001</td> <td>    1.747</td> <td>    7.102</td>\n",
       "</tr>\n",
       "<tr>\n",
       "  <th>bookerCC_nl</th>          <td>    5.0182</td> <td>    1.921</td> <td>    2.612</td> <td> 0.009</td> <td>    1.242</td> <td>    8.794</td>\n",
       "</tr>\n",
       "<tr>\n",
       "  <th>bookerCC_us</th>          <td>    4.8158</td> <td>    1.386</td> <td>    3.474</td> <td> 0.001</td> <td>    2.091</td> <td>    7.541</td>\n",
       "</tr>\n",
       "<tr>\n",
       "  <th>channel_Email</th>        <td>   -6.8203</td> <td>    1.043</td> <td>   -6.537</td> <td> 0.000</td> <td>   -8.871</td> <td>   -4.770</td>\n",
       "</tr>\n",
       "<tr>\n",
       "  <th>channel_Intercompany</th> <td>   -3.7215</td> <td>    1.179</td> <td>   -3.156</td> <td> 0.002</td> <td>   -6.039</td> <td>   -1.404</td>\n",
       "</tr>\n",
       "<tr>\n",
       "  <th>channel_PPC</th>          <td>   -8.1515</td> <td>    1.211</td> <td>   -6.731</td> <td> 0.000</td> <td>  -10.532</td> <td>   -5.771</td>\n",
       "</tr>\n",
       "<tr>\n",
       "  <th>channel_ShopPPC</th>      <td>   -8.2835</td> <td>    1.171</td> <td>   -7.075</td> <td> 0.000</td> <td>  -10.585</td> <td>   -5.982</td>\n",
       "</tr>\n",
       "</table>\n",
       "<table class=\"simpletable\">\n",
       "<tr>\n",
       "  <th>Omnibus:</th>       <td>145.144</td> <th>  Durbin-Watson:     </th> <td>   2.087</td>\n",
       "</tr>\n",
       "<tr>\n",
       "  <th>Prob(Omnibus):</th> <td> 0.000</td>  <th>  Jarque-Bera (JB):  </th> <td>2522.538</td>\n",
       "</tr>\n",
       "<tr>\n",
       "  <th>Skew:</th>          <td> 0.925</td>  <th>  Prob(JB):          </th> <td>    0.00</td>\n",
       "</tr>\n",
       "<tr>\n",
       "  <th>Kurtosis:</th>      <td>14.570</td>  <th>  Cond. No.          </th> <td>    911.</td>\n",
       "</tr>\n",
       "</table><br/><br/>Notes:<br/>[1] Standard Errors assume that the covariance matrix of the errors is correctly specified."
      ],
      "text/plain": [
       "<class 'statsmodels.iolib.summary.Summary'>\n",
       "\"\"\"\n",
       "                            OLS Regression Results                            \n",
       "==============================================================================\n",
       "Dep. Variable:                    ltv   R-squared:                       0.994\n",
       "Model:                            OLS   Adj. R-squared:                  0.994\n",
       "Method:                 Least Squares   F-statistic:                     6293.\n",
       "Date:                Wed, 13 Oct 2021   Prob (F-statistic):               0.00\n",
       "Time:                        09:28:48   Log-Likelihood:                -1508.9\n",
       "No. Observations:                 441   AIC:                             3044.\n",
       "Df Residuals:                     428   BIC:                             3097.\n",
       "Df Model:                          12                                         \n",
       "Covariance Type:            nonrobust                                         \n",
       "========================================================================================\n",
       "                           coef    std err          t      P>|t|      [0.025      0.975]\n",
       "----------------------------------------------------------------------------------------\n",
       "const                   -8.5667      1.189     -7.205      0.000     -10.904      -6.230\n",
       "commission               1.2887      0.005    266.502      0.000       1.279       1.298\n",
       "bookerCC_br              5.9261      1.218      4.865      0.000       3.532       8.320\n",
       "bookerCC_de              3.1498      1.212      2.598      0.010       0.767       5.533\n",
       "bookerCC_fr              4.4636      1.373      3.251      0.001       1.765       7.162\n",
       "bookerCC_gb              5.4712      1.322      4.139      0.000       2.873       8.069\n",
       "bookerCC_it              4.4242      1.362      3.248      0.001       1.747       7.102\n",
       "bookerCC_nl              5.0182      1.921      2.612      0.009       1.242       8.794\n",
       "bookerCC_us              4.8158      1.386      3.474      0.001       2.091       7.541\n",
       "channel_Email           -6.8203      1.043     -6.537      0.000      -8.871      -4.770\n",
       "channel_Intercompany    -3.7215      1.179     -3.156      0.002      -6.039      -1.404\n",
       "channel_PPC             -8.1515      1.211     -6.731      0.000     -10.532      -5.771\n",
       "channel_ShopPPC         -8.2835      1.171     -7.075      0.000     -10.585      -5.982\n",
       "==============================================================================\n",
       "Omnibus:                      145.144   Durbin-Watson:                   2.087\n",
       "Prob(Omnibus):                  0.000   Jarque-Bera (JB):             2522.538\n",
       "Skew:                           0.925   Prob(JB):                         0.00\n",
       "Kurtosis:                      14.570   Cond. No.                         911.\n",
       "==============================================================================\n",
       "\n",
       "Notes:\n",
       "[1] Standard Errors assume that the covariance matrix of the errors is correctly specified.\n",
       "\"\"\""
      ]
     },
     "execution_count": 67,
     "metadata": {},
     "output_type": "execute_result"
    }
   ],
   "source": [
    "X_constant_new=sm.add_constant(X_new)\n",
    "lin_reg=sm.OLS(y,X_constant_new).fit()\n",
    "lin_reg.summary()"
   ]
  },
  {
   "cell_type": "markdown",
   "id": "b5dc2523",
   "metadata": {},
   "source": [
    "# Ridge and Lasso Regression"
   ]
  },
  {
   "cell_type": "code",
   "execution_count": 68,
   "id": "e9048c42",
   "metadata": {},
   "outputs": [],
   "source": [
    "from sklearn.linear_model import Ridge, Lasso"
   ]
  },
  {
   "cell_type": "code",
   "execution_count": 69,
   "id": "8f7e2d2c",
   "metadata": {},
   "outputs": [
    {
     "name": "stdout",
     "output_type": "stream",
     "text": [
      "Ridge Regression\n",
      "RMSE: 12.371936498697806\n",
      "MAE 7.587068075468365\n",
      "R-squared: 0.982446875779104\n"
     ]
    }
   ],
   "source": [
    "ridge=Ridge(alpha=0.1,normalize=True)\n",
    "ridge.fit(X_train,y_train)\n",
    "print('Ridge Regression')\n",
    "y_pred = ridge.predict(X_test)\n",
    "print('RMSE:', np.sqrt(mean_squared_error(y_test, y_pred)))\n",
    "print(\"MAE\",mean_absolute_error(y_test,y_pred))\n",
    "print('R-squared:',r2_score(y_test,y_pred))"
   ]
  },
  {
   "cell_type": "code",
   "execution_count": 70,
   "id": "b2cf358b",
   "metadata": {},
   "outputs": [
    {
     "name": "stdout",
     "output_type": "stream",
     "text": [
      "Lasso Regression\n",
      "RMSE: 8.546386393016563\n",
      "MAE 5.822882157530427\n",
      "R-squared: 0.9916238564883516\n"
     ]
    }
   ],
   "source": [
    "lasso = Lasso(random_state=1)\n",
    "lasso.fit(X_train,y_train)\n",
    "print('Lasso Regression')\n",
    "y_pred = lasso.predict(X_test)\n",
    "print('RMSE:', np.sqrt(mean_squared_error(y_test, y_pred)))\n",
    "print(\"MAE\",mean_absolute_error(y_test,y_pred))\n",
    "print('R-squared:',r2_score(y_test,y_pred))"
   ]
  },
  {
   "cell_type": "markdown",
   "id": "472a467d",
   "metadata": {},
   "source": [
    "# Decision Tree"
   ]
  },
  {
   "cell_type": "code",
   "execution_count": 71,
   "id": "e26d8bda",
   "metadata": {},
   "outputs": [],
   "source": [
    "from sklearn.tree import DecisionTreeRegressor"
   ]
  },
  {
   "cell_type": "code",
   "execution_count": 72,
   "id": "834719a8",
   "metadata": {},
   "outputs": [
    {
     "name": "stdout",
     "output_type": "stream",
     "text": [
      "Decision Tree\n",
      "RMSE: 29.52034400460767\n",
      "MAE 8.585563909774438\n",
      "R-squared: 0.9000640167060532\n"
     ]
    }
   ],
   "source": [
    "dt = DecisionTreeRegressor(random_state=1)\n",
    "\n",
    "dt.fit(X_train,y_train)\n",
    "print('Decision Tree')\n",
    "y_pred=dt.predict(X_test)\n",
    "print('RMSE:',np.sqrt(mean_squared_error(y_test,y_pred)))\n",
    "print(\"MAE\",mean_absolute_error(y_test,y_pred))\n",
    "print('R-squared:',r2_score(y_test,y_pred))"
   ]
  },
  {
   "cell_type": "markdown",
   "id": "2256d4cb",
   "metadata": {},
   "source": [
    "# RandomForest"
   ]
  },
  {
   "cell_type": "code",
   "execution_count": 73,
   "id": "a7ef7b32",
   "metadata": {},
   "outputs": [],
   "source": [
    "from sklearn.ensemble import RandomForestRegressor"
   ]
  },
  {
   "cell_type": "code",
   "execution_count": 74,
   "id": "1fa51c57",
   "metadata": {},
   "outputs": [
    {
     "data": {
      "text/plain": [
       "{'bootstrap': True,\n",
       " 'max_depth': 10,\n",
       " 'max_features': 'auto',\n",
       " 'n_estimators': 100}"
      ]
     },
     "execution_count": 74,
     "metadata": {},
     "output_type": "execute_result"
    }
   ],
   "source": [
    "from sklearn.model_selection import GridSearchCV\n",
    "rf = RandomForestRegressor()\n",
    "params = {\n",
    "        'max_depth' : [10,20,30],\n",
    "        \n",
    "        'n_estimators' : [100,200,50],\n",
    "        \n",
    "        \"bootstrap\" : [True, False],\n",
    "    \n",
    "        'max_features': ['auto', 'sqrt', 'log2']\n",
    "        \n",
    "        }\n",
    "\n",
    "grid = GridSearchCV(estimator = rf, param_grid=params, cv = 5, n_jobs = -1, return_train_score = True )\n",
    "grid.fit(X_train,y_train)\n",
    "grid.best_params_"
   ]
  },
  {
   "cell_type": "code",
   "execution_count": 75,
   "id": "74d07b41",
   "metadata": {},
   "outputs": [
    {
     "name": "stdout",
     "output_type": "stream",
     "text": [
      "Random Forest\n",
      "RMSE: 11.372703801320462\n",
      "MAE 5.292397513956385\n",
      "R-squared: 0.9851677677154911\n"
     ]
    }
   ],
   "source": [
    "rf = RandomForestRegressor(**grid.best_params_)\n",
    "\n",
    "rf.fit(X_train,y_train)\n",
    "print('Random Forest')\n",
    "y_pred=rf.predict(X_test)\n",
    "print('RMSE:',np.sqrt(mean_squared_error(y_test,y_pred)))\n",
    "print(\"MAE\",mean_absolute_error(y_test,y_pred))\n",
    "print('R-squared:',r2_score(y_test,y_pred))"
   ]
  },
  {
   "cell_type": "code",
   "execution_count": 76,
   "id": "74b80cf9",
   "metadata": {},
   "outputs": [
    {
     "data": {
      "text/html": [
       "<div>\n",
       "<style scoped>\n",
       "    .dataframe tbody tr th:only-of-type {\n",
       "        vertical-align: middle;\n",
       "    }\n",
       "\n",
       "    .dataframe tbody tr th {\n",
       "        vertical-align: top;\n",
       "    }\n",
       "\n",
       "    .dataframe thead th {\n",
       "        text-align: right;\n",
       "    }\n",
       "</style>\n",
       "<table border=\"1\" class=\"dataframe\">\n",
       "  <thead>\n",
       "    <tr style=\"text-align: right;\">\n",
       "      <th></th>\n",
       "      <th>Score</th>\n",
       "    </tr>\n",
       "  </thead>\n",
       "  <tbody>\n",
       "    <tr>\n",
       "      <th>commission</th>\n",
       "      <td>0.986747</td>\n",
       "    </tr>\n",
       "    <tr>\n",
       "      <th>bookerCC_de</th>\n",
       "      <td>0.008301</td>\n",
       "    </tr>\n",
       "    <tr>\n",
       "      <th>channel_Email</th>\n",
       "      <td>0.001234</td>\n",
       "    </tr>\n",
       "    <tr>\n",
       "      <th>length_of_stay</th>\n",
       "      <td>0.001155</td>\n",
       "    </tr>\n",
       "    <tr>\n",
       "      <th>bookerCC_us</th>\n",
       "      <td>0.000778</td>\n",
       "    </tr>\n",
       "    <tr>\n",
       "      <th>bookerCC_gb</th>\n",
       "      <td>0.000416</td>\n",
       "    </tr>\n",
       "    <tr>\n",
       "      <th>channel_PPC</th>\n",
       "      <td>0.000329</td>\n",
       "    </tr>\n",
       "    <tr>\n",
       "      <th>bookerCC_it</th>\n",
       "      <td>0.000325</td>\n",
       "    </tr>\n",
       "    <tr>\n",
       "      <th>channel_ShopPPC</th>\n",
       "      <td>0.000179</td>\n",
       "    </tr>\n",
       "    <tr>\n",
       "      <th>bookerCC_es</th>\n",
       "      <td>0.000172</td>\n",
       "    </tr>\n",
       "    <tr>\n",
       "      <th>channel_Intercompany</th>\n",
       "      <td>0.000166</td>\n",
       "    </tr>\n",
       "    <tr>\n",
       "      <th>bookerCC_fr</th>\n",
       "      <td>0.000102</td>\n",
       "    </tr>\n",
       "    <tr>\n",
       "      <th>bookerCC_br</th>\n",
       "      <td>0.000049</td>\n",
       "    </tr>\n",
       "    <tr>\n",
       "      <th>bookerCC_nl</th>\n",
       "      <td>0.000045</td>\n",
       "    </tr>\n",
       "  </tbody>\n",
       "</table>\n",
       "</div>"
      ],
      "text/plain": [
       "                         Score\n",
       "commission            0.986747\n",
       "bookerCC_de           0.008301\n",
       "channel_Email         0.001234\n",
       "length_of_stay        0.001155\n",
       "bookerCC_us           0.000778\n",
       "bookerCC_gb           0.000416\n",
       "channel_PPC           0.000329\n",
       "bookerCC_it           0.000325\n",
       "channel_ShopPPC       0.000179\n",
       "bookerCC_es           0.000172\n",
       "channel_Intercompany  0.000166\n",
       "bookerCC_fr           0.000102\n",
       "bookerCC_br           0.000049\n",
       "bookerCC_nl           0.000045"
      ]
     },
     "execution_count": 76,
     "metadata": {},
     "output_type": "execute_result"
    }
   ],
   "source": [
    "pd.DataFrame(rf.feature_importances_,index=X_train.columns,columns=['Score']).sort_values(\"Score\",ascending=False)"
   ]
  },
  {
   "cell_type": "code",
   "execution_count": 77,
   "id": "4645df47",
   "metadata": {},
   "outputs": [
    {
     "data": {
      "image/png": "[encoded data removed]",
      "text/plain": [
       "<Figure size 1440x504 with 1 Axes>"
      ]
     },
     "metadata": {
      "needs_background": "light"
     },
     "output_type": "display_data"
    }
   ],
   "source": [
    "pd.DataFrame(rf.feature_importances_,index=X_train.columns,columns=['Score']).sort_values(\"Score\",ascending=False).plot(kind='bar',figsize=(20,7))\n",
    "plt.show()"
   ]
  },
  {
   "cell_type": "markdown",
   "id": "918f2acc",
   "metadata": {},
   "source": [
    "Random Forest Model with hyperparameter tuning using GridSearchCV gave the best RMSE and R^2 score\n",
    "\n",
    "commission and bookerCC_de are the most important features in predicting ltv"
   ]
  },
  {
   "cell_type": "markdown",
   "id": "f3fdb0fc",
   "metadata": {},
   "source": [
    "# Prediction "
   ]
  },
  {
   "cell_type": "code",
   "execution_count": 78,
   "id": "49b33c87",
   "metadata": {},
   "outputs": [],
   "source": [
    "test_data = pd.read_excel('Problem3Test.xlsx')"
   ]
  },
  {
   "cell_type": "code",
   "execution_count": 79,
   "id": "e99bcd9c",
   "metadata": {},
   "outputs": [],
   "source": [
    "numerical_cols = test_data.select_dtypes(include=[\"int64\",\"float64\"])"
   ]
  },
  {
   "cell_type": "code",
   "execution_count": 80,
   "id": "fe8779d9",
   "metadata": {},
   "outputs": [
    {
     "name": "stderr",
     "output_type": "stream",
     "text": [
      "C:\\Users\\pinarsungu\\anaconda3\\lib\\site-packages\\pandas\\core\\frame.py:4308: SettingWithCopyWarning: \n",
      "A value is trying to be set on a copy of a slice from a DataFrame\n",
      "\n",
      "See the caveats in the documentation: https://pandas.pydata.org/pandas-docs/stable/user_guide/indexing.html#returning-a-view-versus-a-copy\n",
      "  return super().drop(\n"
     ]
    }
   ],
   "source": [
    "numerical_cols.drop([\"userID\", \"international\"],axis=1,inplace=True)"
   ]
  },
  {
   "cell_type": "code",
   "execution_count": 81,
   "id": "d89113ef",
   "metadata": {},
   "outputs": [],
   "source": [
    "cat_cols = test_data.select_dtypes(include=\"object\")"
   ]
  },
  {
   "cell_type": "code",
   "execution_count": 82,
   "id": "6ce0d06b",
   "metadata": {},
   "outputs": [],
   "source": [
    "no_col = test_data[[\"international\"]]"
   ]
  },
  {
   "cell_type": "code",
   "execution_count": 83,
   "id": "91aac3d4",
   "metadata": {},
   "outputs": [],
   "source": [
    "cat_cols = pd.concat([cat_cols,no_col],axis=1)"
   ]
  },
  {
   "cell_type": "code",
   "execution_count": 84,
   "id": "017d7aa0",
   "metadata": {},
   "outputs": [],
   "source": [
    "catg=pd.get_dummies(cat_cols,drop_first=True)"
   ]
  },
  {
   "cell_type": "code",
   "execution_count": 85,
   "id": "b7ff752c",
   "metadata": {},
   "outputs": [
    {
     "data": {
      "text/html": [
       "<div>\n",
       "<style scoped>\n",
       "    .dataframe tbody tr th:only-of-type {\n",
       "        vertical-align: middle;\n",
       "    }\n",
       "\n",
       "    .dataframe tbody tr th {\n",
       "        vertical-align: top;\n",
       "    }\n",
       "\n",
       "    .dataframe thead th {\n",
       "        text-align: right;\n",
       "    }\n",
       "</style>\n",
       "<table border=\"1\" class=\"dataframe\">\n",
       "  <thead>\n",
       "    <tr style=\"text-align: right;\">\n",
       "      <th></th>\n",
       "      <th>length_of_stay</th>\n",
       "      <th>commission</th>\n",
       "      <th>ltv</th>\n",
       "      <th>international</th>\n",
       "      <th>bookerCC_es</th>\n",
       "      <th>bookerCC_fr</th>\n",
       "      <th>bookerCC_gb</th>\n",
       "      <th>bookerCC_it</th>\n",
       "      <th>bookerCC_nl</th>\n",
       "      <th>bookerCC_us</th>\n",
       "      <th>channel_Email</th>\n",
       "      <th>channel_Intercompany</th>\n",
       "      <th>channel_PPC</th>\n",
       "      <th>channel_ShopPPC</th>\n",
       "    </tr>\n",
       "  </thead>\n",
       "  <tbody>\n",
       "    <tr>\n",
       "      <th>0</th>\n",
       "      <td>3</td>\n",
       "      <td>130.2</td>\n",
       "      <td>NaN</td>\n",
       "      <td>1</td>\n",
       "      <td>0</td>\n",
       "      <td>0</td>\n",
       "      <td>0</td>\n",
       "      <td>0</td>\n",
       "      <td>0</td>\n",
       "      <td>1</td>\n",
       "      <td>1</td>\n",
       "      <td>0</td>\n",
       "      <td>0</td>\n",
       "      <td>0</td>\n",
       "    </tr>\n",
       "    <tr>\n",
       "      <th>1</th>\n",
       "      <td>2</td>\n",
       "      <td>64.0</td>\n",
       "      <td>NaN</td>\n",
       "      <td>0</td>\n",
       "      <td>0</td>\n",
       "      <td>0</td>\n",
       "      <td>0</td>\n",
       "      <td>0</td>\n",
       "      <td>0</td>\n",
       "      <td>1</td>\n",
       "      <td>1</td>\n",
       "      <td>0</td>\n",
       "      <td>0</td>\n",
       "      <td>0</td>\n",
       "    </tr>\n",
       "    <tr>\n",
       "      <th>2</th>\n",
       "      <td>10</td>\n",
       "      <td>333.3</td>\n",
       "      <td>NaN</td>\n",
       "      <td>1</td>\n",
       "      <td>0</td>\n",
       "      <td>0</td>\n",
       "      <td>0</td>\n",
       "      <td>0</td>\n",
       "      <td>0</td>\n",
       "      <td>1</td>\n",
       "      <td>0</td>\n",
       "      <td>0</td>\n",
       "      <td>0</td>\n",
       "      <td>1</td>\n",
       "    </tr>\n",
       "    <tr>\n",
       "      <th>3</th>\n",
       "      <td>3</td>\n",
       "      <td>99.0</td>\n",
       "      <td>NaN</td>\n",
       "      <td>0</td>\n",
       "      <td>0</td>\n",
       "      <td>0</td>\n",
       "      <td>0</td>\n",
       "      <td>0</td>\n",
       "      <td>0</td>\n",
       "      <td>1</td>\n",
       "      <td>0</td>\n",
       "      <td>1</td>\n",
       "      <td>0</td>\n",
       "      <td>0</td>\n",
       "    </tr>\n",
       "    <tr>\n",
       "      <th>4</th>\n",
       "      <td>1</td>\n",
       "      <td>29.0</td>\n",
       "      <td>NaN</td>\n",
       "      <td>0</td>\n",
       "      <td>0</td>\n",
       "      <td>0</td>\n",
       "      <td>0</td>\n",
       "      <td>1</td>\n",
       "      <td>0</td>\n",
       "      <td>0</td>\n",
       "      <td>0</td>\n",
       "      <td>1</td>\n",
       "      <td>0</td>\n",
       "      <td>0</td>\n",
       "    </tr>\n",
       "  </tbody>\n",
       "</table>\n",
       "</div>"
      ],
      "text/plain": [
       "   length_of_stay  commission  ltv  international  bookerCC_es  bookerCC_fr  \\\n",
       "0               3       130.2  NaN              1            0            0   \n",
       "1               2        64.0  NaN              0            0            0   \n",
       "2              10       333.3  NaN              1            0            0   \n",
       "3               3        99.0  NaN              0            0            0   \n",
       "4               1        29.0  NaN              0            0            0   \n",
       "\n",
       "   bookerCC_gb  bookerCC_it  bookerCC_nl  bookerCC_us  channel_Email  \\\n",
       "0            0            0            0            1              1   \n",
       "1            0            0            0            1              1   \n",
       "2            0            0            0            1              0   \n",
       "3            0            0            0            1              0   \n",
       "4            0            1            0            0              0   \n",
       "\n",
       "   channel_Intercompany  channel_PPC  channel_ShopPPC  \n",
       "0                     0            0                0  \n",
       "1                     0            0                0  \n",
       "2                     0            0                1  \n",
       "3                     1            0                0  \n",
       "4                     1            0                0  "
      ]
     },
     "execution_count": 85,
     "metadata": {},
     "output_type": "execute_result"
    }
   ],
   "source": [
    "dfn = pd.concat([numerical_cols,catg],axis=1)\n",
    "dfn.head()"
   ]
  },
  {
   "cell_type": "code",
   "execution_count": 86,
   "id": "1a4987f5",
   "metadata": {},
   "outputs": [],
   "source": [
    "X_test=dfn.drop(['ltv', 'international'],axis=1)\n",
    "y=dfn['ltv']"
   ]
  },
  {
   "cell_type": "code",
   "execution_count": 87,
   "id": "41058207",
   "metadata": {},
   "outputs": [
    {
     "data": {
      "text/plain": [
       "['bookerCC_br', 'bookerCC_de']"
      ]
     },
     "execution_count": 87,
     "metadata": {},
     "output_type": "execute_result"
    }
   ],
   "source": [
    "list(set(X_train).difference(X_test))"
   ]
  },
  {
   "cell_type": "code",
   "execution_count": 88,
   "id": "7bfdf769",
   "metadata": {},
   "outputs": [],
   "source": [
    "X_test['bookerCC_de'] = 0\n",
    "X_test['bookerCC_br'] = 0"
   ]
  },
  {
   "cell_type": "code",
   "execution_count": 89,
   "id": "387b2206",
   "metadata": {},
   "outputs": [],
   "source": [
    "predictions = rf.predict(X_test)"
   ]
  },
  {
   "cell_type": "code",
   "execution_count": 90,
   "id": "810cebb7",
   "metadata": {},
   "outputs": [
    {
     "data": {
      "text/html": [
       "<div>\n",
       "<style scoped>\n",
       "    .dataframe tbody tr th:only-of-type {\n",
       "        vertical-align: middle;\n",
       "    }\n",
       "\n",
       "    .dataframe tbody tr th {\n",
       "        vertical-align: top;\n",
       "    }\n",
       "\n",
       "    .dataframe thead th {\n",
       "        text-align: right;\n",
       "    }\n",
       "</style>\n",
       "<table border=\"1\" class=\"dataframe\">\n",
       "  <thead>\n",
       "    <tr style=\"text-align: right;\">\n",
       "      <th></th>\n",
       "      <th>userID</th>\n",
       "      <th>bookerCC</th>\n",
       "      <th>international</th>\n",
       "      <th>length_of_stay</th>\n",
       "      <th>channel</th>\n",
       "      <th>bookDate</th>\n",
       "      <th>commission</th>\n",
       "      <th>ltv</th>\n",
       "    </tr>\n",
       "  </thead>\n",
       "  <tbody>\n",
       "    <tr>\n",
       "      <th>0</th>\n",
       "      <td>20</td>\n",
       "      <td>us</td>\n",
       "      <td>1</td>\n",
       "      <td>3</td>\n",
       "      <td>Email</td>\n",
       "      <td>2017-02-27</td>\n",
       "      <td>130.2</td>\n",
       "      <td>160.928727</td>\n",
       "    </tr>\n",
       "    <tr>\n",
       "      <th>1</th>\n",
       "      <td>25</td>\n",
       "      <td>us</td>\n",
       "      <td>0</td>\n",
       "      <td>2</td>\n",
       "      <td>Email</td>\n",
       "      <td>2017-06-01</td>\n",
       "      <td>64.0</td>\n",
       "      <td>71.379555</td>\n",
       "    </tr>\n",
       "    <tr>\n",
       "      <th>2</th>\n",
       "      <td>4</td>\n",
       "      <td>us</td>\n",
       "      <td>1</td>\n",
       "      <td>10</td>\n",
       "      <td>ShopPPC</td>\n",
       "      <td>2017-02-09</td>\n",
       "      <td>333.3</td>\n",
       "      <td>444.725900</td>\n",
       "    </tr>\n",
       "    <tr>\n",
       "      <th>3</th>\n",
       "      <td>49</td>\n",
       "      <td>us</td>\n",
       "      <td>0</td>\n",
       "      <td>3</td>\n",
       "      <td>Intercompany</td>\n",
       "      <td>2017-05-13</td>\n",
       "      <td>99.0</td>\n",
       "      <td>121.176511</td>\n",
       "    </tr>\n",
       "    <tr>\n",
       "      <th>4</th>\n",
       "      <td>114</td>\n",
       "      <td>it</td>\n",
       "      <td>0</td>\n",
       "      <td>1</td>\n",
       "      <td>Intercompany</td>\n",
       "      <td>2017-03-10</td>\n",
       "      <td>29.0</td>\n",
       "      <td>31.853098</td>\n",
       "    </tr>\n",
       "    <tr>\n",
       "      <th>5</th>\n",
       "      <td>115</td>\n",
       "      <td>it</td>\n",
       "      <td>1</td>\n",
       "      <td>3</td>\n",
       "      <td>Intercompany</td>\n",
       "      <td>2017-02-22</td>\n",
       "      <td>114.7</td>\n",
       "      <td>136.949183</td>\n",
       "    </tr>\n",
       "    <tr>\n",
       "      <th>6</th>\n",
       "      <td>89</td>\n",
       "      <td>fr</td>\n",
       "      <td>0</td>\n",
       "      <td>3</td>\n",
       "      <td>ShopPPC</td>\n",
       "      <td>2017-02-07</td>\n",
       "      <td>84.0</td>\n",
       "      <td>102.747747</td>\n",
       "    </tr>\n",
       "    <tr>\n",
       "      <th>7</th>\n",
       "      <td>90</td>\n",
       "      <td>fr</td>\n",
       "      <td>0</td>\n",
       "      <td>3</td>\n",
       "      <td>Direct</td>\n",
       "      <td>2017-03-07</td>\n",
       "      <td>78.0</td>\n",
       "      <td>89.083275</td>\n",
       "    </tr>\n",
       "    <tr>\n",
       "      <th>8</th>\n",
       "      <td>91</td>\n",
       "      <td>fr</td>\n",
       "      <td>1</td>\n",
       "      <td>2</td>\n",
       "      <td>Direct</td>\n",
       "      <td>2017-04-25</td>\n",
       "      <td>86.1</td>\n",
       "      <td>100.701790</td>\n",
       "    </tr>\n",
       "    <tr>\n",
       "      <th>9</th>\n",
       "      <td>158</td>\n",
       "      <td>es</td>\n",
       "      <td>0</td>\n",
       "      <td>1</td>\n",
       "      <td>Direct</td>\n",
       "      <td>2017-06-08</td>\n",
       "      <td>37.0</td>\n",
       "      <td>40.765341</td>\n",
       "    </tr>\n",
       "    <tr>\n",
       "      <th>10</th>\n",
       "      <td>159</td>\n",
       "      <td>es</td>\n",
       "      <td>1</td>\n",
       "      <td>1</td>\n",
       "      <td>ShopPPC</td>\n",
       "      <td>2017-04-17</td>\n",
       "      <td>53.9</td>\n",
       "      <td>60.462210</td>\n",
       "    </tr>\n",
       "    <tr>\n",
       "      <th>11</th>\n",
       "      <td>415</td>\n",
       "      <td>de</td>\n",
       "      <td>1</td>\n",
       "      <td>3</td>\n",
       "      <td>PPC</td>\n",
       "      <td>2017-06-02</td>\n",
       "      <td>164.3</td>\n",
       "      <td>203.523849</td>\n",
       "    </tr>\n",
       "    <tr>\n",
       "      <th>12</th>\n",
       "      <td>416</td>\n",
       "      <td>de</td>\n",
       "      <td>1</td>\n",
       "      <td>1</td>\n",
       "      <td>Email</td>\n",
       "      <td>2017-06-18</td>\n",
       "      <td>46.2</td>\n",
       "      <td>51.764425</td>\n",
       "    </tr>\n",
       "    <tr>\n",
       "      <th>13</th>\n",
       "      <td>456</td>\n",
       "      <td>nl</td>\n",
       "      <td>1</td>\n",
       "      <td>9</td>\n",
       "      <td>Direct</td>\n",
       "      <td>2017-06-15</td>\n",
       "      <td>418.6</td>\n",
       "      <td>506.107200</td>\n",
       "    </tr>\n",
       "    <tr>\n",
       "      <th>14</th>\n",
       "      <td>457</td>\n",
       "      <td>nl</td>\n",
       "      <td>1</td>\n",
       "      <td>1</td>\n",
       "      <td>Direct</td>\n",
       "      <td>2017-05-31</td>\n",
       "      <td>29.7</td>\n",
       "      <td>33.128775</td>\n",
       "    </tr>\n",
       "    <tr>\n",
       "      <th>15</th>\n",
       "      <td>458</td>\n",
       "      <td>nl</td>\n",
       "      <td>1</td>\n",
       "      <td>9</td>\n",
       "      <td>Email</td>\n",
       "      <td>2017-05-28</td>\n",
       "      <td>345.8</td>\n",
       "      <td>438.245500</td>\n",
       "    </tr>\n",
       "    <tr>\n",
       "      <th>16</th>\n",
       "      <td>209</td>\n",
       "      <td>gb</td>\n",
       "      <td>0</td>\n",
       "      <td>2</td>\n",
       "      <td>ShopPPC</td>\n",
       "      <td>2017-02-21</td>\n",
       "      <td>84.0</td>\n",
       "      <td>97.771089</td>\n",
       "    </tr>\n",
       "    <tr>\n",
       "      <th>17</th>\n",
       "      <td>210</td>\n",
       "      <td>gb</td>\n",
       "      <td>0</td>\n",
       "      <td>1</td>\n",
       "      <td>Email</td>\n",
       "      <td>2017-05-27</td>\n",
       "      <td>49.0</td>\n",
       "      <td>53.613027</td>\n",
       "    </tr>\n",
       "    <tr>\n",
       "      <th>18</th>\n",
       "      <td>211</td>\n",
       "      <td>gb</td>\n",
       "      <td>1</td>\n",
       "      <td>2</td>\n",
       "      <td>Direct</td>\n",
       "      <td>2017-03-06</td>\n",
       "      <td>96.6</td>\n",
       "      <td>113.252395</td>\n",
       "    </tr>\n",
       "  </tbody>\n",
       "</table>\n",
       "</div>"
      ],
      "text/plain": [
       "    userID bookerCC  international  length_of_stay       channel   bookDate  \\\n",
       "0       20       us              1               3         Email 2017-02-27   \n",
       "1       25       us              0               2         Email 2017-06-01   \n",
       "2        4       us              1              10       ShopPPC 2017-02-09   \n",
       "3       49       us              0               3  Intercompany 2017-05-13   \n",
       "4      114       it              0               1  Intercompany 2017-03-10   \n",
       "5      115       it              1               3  Intercompany 2017-02-22   \n",
       "6       89       fr              0               3       ShopPPC 2017-02-07   \n",
       "7       90       fr              0               3        Direct 2017-03-07   \n",
       "8       91       fr              1               2        Direct 2017-04-25   \n",
       "9      158       es              0               1        Direct 2017-06-08   \n",
       "10     159       es              1               1       ShopPPC 2017-04-17   \n",
       "11     415       de              1               3           PPC 2017-06-02   \n",
       "12     416       de              1               1         Email 2017-06-18   \n",
       "13     456       nl              1               9        Direct 2017-06-15   \n",
       "14     457       nl              1               1        Direct 2017-05-31   \n",
       "15     458       nl              1               9         Email 2017-05-28   \n",
       "16     209       gb              0               2       ShopPPC 2017-02-21   \n",
       "17     210       gb              0               1         Email 2017-05-27   \n",
       "18     211       gb              1               2        Direct 2017-03-06   \n",
       "\n",
       "    commission         ltv  \n",
       "0        130.2  160.928727  \n",
       "1         64.0   71.379555  \n",
       "2        333.3  444.725900  \n",
       "3         99.0  121.176511  \n",
       "4         29.0   31.853098  \n",
       "5        114.7  136.949183  \n",
       "6         84.0  102.747747  \n",
       "7         78.0   89.083275  \n",
       "8         86.1  100.701790  \n",
       "9         37.0   40.765341  \n",
       "10        53.9   60.462210  \n",
       "11       164.3  203.523849  \n",
       "12        46.2   51.764425  \n",
       "13       418.6  506.107200  \n",
       "14        29.7   33.128775  \n",
       "15       345.8  438.245500  \n",
       "16        84.0   97.771089  \n",
       "17        49.0   53.613027  \n",
       "18        96.6  113.252395  "
      ]
     },
     "execution_count": 90,
     "metadata": {},
     "output_type": "execute_result"
    }
   ],
   "source": [
    "test_data['ltv'] = predictions\n",
    "test_data"
   ]
  }
 ],
 "metadata": {
  "kernelspec": {
   "display_name": "Python 3",
   "language": "python",
   "name": "python3"
  },
  "language_info": {
   "codemirror_mode": {
    "name": "ipython",
    "version": 3
   },
   "file_extension": ".py",
   "mimetype": "text/x-python",
   "name": "python",
   "nbconvert_exporter": "python",
   "pygments_lexer": "ipython3",
   "version": "3.8.8"
  }
 },
 "nbformat": 4,
 "nbformat_minor": 5
}
